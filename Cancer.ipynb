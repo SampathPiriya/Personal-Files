{
  "nbformat": 4,
  "nbformat_minor": 0,
  "metadata": {
    "colab": {
      "name": "Cancer.ipynb",
      "provenance": [],
      "authorship_tag": "ABX9TyN5lOkhhfNgL1LMvgDDH6oK",
      "include_colab_link": true
    },
    "kernelspec": {
      "name": "python3",
      "display_name": "Python 3"
    },
    "language_info": {
      "name": "python"
    }
  },
  "cells": [
    {
      "cell_type": "markdown",
      "metadata": {
        "id": "view-in-github",
        "colab_type": "text"
      },
      "source": [
        "<a href=\"https://colab.research.google.com/github/SampathPiriya/Personal-Files/blob/master/Cancer.ipynb\" target=\"_parent\"><img src=\"https://colab.research.google.com/assets/colab-badge.svg\" alt=\"Open In Colab\"/></a>"
      ]
    },
    {
      "cell_type": "code",
      "metadata": {
        "colab": {
          "resources": {
            "http://localhost:8080/nbextensions/google.colab/files.js": {
              "data": "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",
              "ok": true,
              "headers": [
                [
                  "content-type",
                  "application/javascript"
                ]
              ],
              "status": 200,
              "status_text": ""
            }
          },
          "base_uri": "https://localhost:8080/",
          "height": 72
        },
        "id": "CQ4Sl4QknWcX",
        "outputId": "698d705e-9921-4b7b-bdf9-d693d57d29b1"
      },
      "source": [
        "from google.colab import files\n",
        "\n",
        "uploaded = files.upload()"
      ],
      "execution_count": 34,
      "outputs": [
        {
          "output_type": "display_data",
          "data": {
            "text/html": [
              "\n",
              "     <input type=\"file\" id=\"files-831cf91b-2d27-41d1-b1ac-5df31c318c88\" name=\"files[]\" multiple disabled\n",
              "        style=\"border:none\" />\n",
              "     <output id=\"result-831cf91b-2d27-41d1-b1ac-5df31c318c88\">\n",
              "      Upload widget is only available when the cell has been executed in the\n",
              "      current browser session. Please rerun this cell to enable.\n",
              "      </output>\n",
              "      <script src=\"/nbextensions/google.colab/files.js\"></script> "
            ],
            "text/plain": [
              "<IPython.core.display.HTML object>"
            ]
          },
          "metadata": {
            "tags": []
          }
        },
        {
          "output_type": "stream",
          "text": [
            "Saving data.csv to data (1).csv\n"
          ],
          "name": "stdout"
        }
      ]
    },
    {
      "cell_type": "code",
      "metadata": {
        "id": "BGDjIEPCnip5"
      },
      "source": [
        "%matplotlib inline\n",
        "\n",
        "import time\n",
        "import random\n",
        "import numpy as np\n",
        "import pandas as pd\n",
        "import io\n",
        "import seaborn as sns\n",
        "import matplotlib.pyplot as plt\n",
        "from sklearn.metrics import roc_curve, auc\n",
        "from sklearn.metrics import confusion_matrix\n",
        "from sklearn.metrics import classification_report\n",
        "from sklearn.model_selection import KFold, cross_val_score\n",
        "from sklearn.model_selection import train_test_split, GridSearchCV\n",
        "from sklearn.ensemble import RandomForestClassifier \n",
        "from urllib.request import urlopen \n",
        "\n",
        "\n",
        "plt.style.use('ggplot')\n",
        "pd.set_option('display.max_columns', 500) "
      ],
      "execution_count": 35,
      "outputs": []
    },
    {
      "cell_type": "code",
      "metadata": {
        "id": "r8CzAiMNoHsn"
      },
      "source": [
        "breast_cancer = pd.read_csv(io.BytesIO(uploaded['data.csv']))\n",
        "\n",
        "names = ['id', 'diagnosis', 'radius_mean', \n",
        "         'texture_mean', 'perimeter_mean', 'area_mean', \n",
        "         'smoothness_mean', 'compactness_mean', \n",
        "         'concavity_mean','concave_points_mean', \n",
        "         'symmetry_mean', 'fractal_dimension_mean',\n",
        "         'radius_se', 'texture_se', 'perimeter_se', \n",
        "         'area_se', 'smoothness_se', 'compactness_se', \n",
        "         'concavity_se', 'concave_points_se', \n",
        "         'symmetry_se', 'fractal_dimension_se', \n",
        "         'radius_worst', 'texture_worst', \n",
        "         'perimeter_worst', 'area_worst', \n",
        "         'smoothness_worst', 'compactness_worst', \n",
        "         'concavity_worst', 'concave_points_worst', \n",
        "         'symmetry_worst', 'fractal_dimension_worst'] \n",
        "\n",
        "dx = ['Benign', 'Malignant']"
      ],
      "execution_count": 36,
      "outputs": []
    },
    {
      "cell_type": "code",
      "metadata": {
        "id": "XhzGkNkxoQ1v"
      },
      "source": [
        "# Setting 'id_number' as our index\n",
        "breast_cancer.set_index(['id'], inplace = True) \n",
        "# Converted to binary to help later on with models and plots\n",
        "breast_cancer['diagnosis'] = breast_cancer['diagnosis'].map({'M':1, 'B':0})\n"
      ],
      "execution_count": 37,
      "outputs": []
    },
    {
      "cell_type": "code",
      "metadata": {
        "colab": {
          "base_uri": "https://localhost:8080/"
        },
        "id": "RdR1TIkroiBx",
        "outputId": "97255692-e30f-431c-ff5a-f834853a1970"
      },
      "source": [
        "breast_cancer.apply(lambda x: x.isnull().sum())"
      ],
      "execution_count": 38,
      "outputs": [
        {
          "output_type": "execute_result",
          "data": {
            "text/plain": [
              "diagnosis                    0\n",
              "radius_mean                  0\n",
              "texture_mean                 0\n",
              "perimeter_mean               0\n",
              "area_mean                    0\n",
              "smoothness_mean              0\n",
              "compactness_mean             0\n",
              "concavity_mean               0\n",
              "concave points_mean          0\n",
              "symmetry_mean                0\n",
              "fractal_dimension_mean       0\n",
              "radius_se                    0\n",
              "texture_se                   0\n",
              "perimeter_se                 0\n",
              "area_se                      0\n",
              "smoothness_se                0\n",
              "compactness_se               0\n",
              "concavity_se                 0\n",
              "concave points_se            0\n",
              "symmetry_se                  0\n",
              "fractal_dimension_se         0\n",
              "radius_worst                 0\n",
              "texture_worst                0\n",
              "perimeter_worst              0\n",
              "area_worst                   0\n",
              "smoothness_worst             0\n",
              "compactness_worst            0\n",
              "concavity_worst              0\n",
              "concave points_worst         0\n",
              "symmetry_worst               0\n",
              "fractal_dimension_worst      0\n",
              "Unnamed: 32                569\n",
              "dtype: int64"
            ]
          },
          "metadata": {
            "tags": []
          },
          "execution_count": 38
        }
      ]
    },
    {
      "cell_type": "code",
      "metadata": {
        "id": "NwN3Fg8lF6fJ"
      },
      "source": [
        "# For later use in CART models\n",
        "names_index = names[2:]"
      ],
      "execution_count": 40,
      "outputs": []
    },
    {
      "cell_type": "code",
      "metadata": {
        "id": "t1kPJTYIF_oH"
      },
      "source": [
        "del breast_cancer['Unnamed: 32']"
      ],
      "execution_count": 41,
      "outputs": []
    },
    {
      "cell_type": "code",
      "metadata": {
        "colab": {
          "base_uri": "https://localhost:8080/",
          "height": 272
        },
        "id": "4SpPQR5ZGm1M",
        "outputId": "737e42d9-40f0-48b2-e870-cd2e64f38b42"
      },
      "source": [
        "breast_cancer.head()"
      ],
      "execution_count": 42,
      "outputs": [
        {
          "output_type": "execute_result",
          "data": {
            "text/html": [
              "<div>\n",
              "<style scoped>\n",
              "    .dataframe tbody tr th:only-of-type {\n",
              "        vertical-align: middle;\n",
              "    }\n",
              "\n",
              "    .dataframe tbody tr th {\n",
              "        vertical-align: top;\n",
              "    }\n",
              "\n",
              "    .dataframe thead th {\n",
              "        text-align: right;\n",
              "    }\n",
              "</style>\n",
              "<table border=\"1\" class=\"dataframe\">\n",
              "  <thead>\n",
              "    <tr style=\"text-align: right;\">\n",
              "      <th></th>\n",
              "      <th>diagnosis</th>\n",
              "      <th>radius_mean</th>\n",
              "      <th>texture_mean</th>\n",
              "      <th>perimeter_mean</th>\n",
              "      <th>area_mean</th>\n",
              "      <th>smoothness_mean</th>\n",
              "      <th>compactness_mean</th>\n",
              "      <th>concavity_mean</th>\n",
              "      <th>concave points_mean</th>\n",
              "      <th>symmetry_mean</th>\n",
              "      <th>fractal_dimension_mean</th>\n",
              "      <th>radius_se</th>\n",
              "      <th>texture_se</th>\n",
              "      <th>perimeter_se</th>\n",
              "      <th>area_se</th>\n",
              "      <th>smoothness_se</th>\n",
              "      <th>compactness_se</th>\n",
              "      <th>concavity_se</th>\n",
              "      <th>concave points_se</th>\n",
              "      <th>symmetry_se</th>\n",
              "      <th>fractal_dimension_se</th>\n",
              "      <th>radius_worst</th>\n",
              "      <th>texture_worst</th>\n",
              "      <th>perimeter_worst</th>\n",
              "      <th>area_worst</th>\n",
              "      <th>smoothness_worst</th>\n",
              "      <th>compactness_worst</th>\n",
              "      <th>concavity_worst</th>\n",
              "      <th>concave points_worst</th>\n",
              "      <th>symmetry_worst</th>\n",
              "      <th>fractal_dimension_worst</th>\n",
              "    </tr>\n",
              "    <tr>\n",
              "      <th>id</th>\n",
              "      <th></th>\n",
              "      <th></th>\n",
              "      <th></th>\n",
              "      <th></th>\n",
              "      <th></th>\n",
              "      <th></th>\n",
              "      <th></th>\n",
              "      <th></th>\n",
              "      <th></th>\n",
              "      <th></th>\n",
              "      <th></th>\n",
              "      <th></th>\n",
              "      <th></th>\n",
              "      <th></th>\n",
              "      <th></th>\n",
              "      <th></th>\n",
              "      <th></th>\n",
              "      <th></th>\n",
              "      <th></th>\n",
              "      <th></th>\n",
              "      <th></th>\n",
              "      <th></th>\n",
              "      <th></th>\n",
              "      <th></th>\n",
              "      <th></th>\n",
              "      <th></th>\n",
              "      <th></th>\n",
              "      <th></th>\n",
              "      <th></th>\n",
              "      <th></th>\n",
              "      <th></th>\n",
              "    </tr>\n",
              "  </thead>\n",
              "  <tbody>\n",
              "    <tr>\n",
              "      <th>842302</th>\n",
              "      <td>1</td>\n",
              "      <td>17.99</td>\n",
              "      <td>10.38</td>\n",
              "      <td>122.80</td>\n",
              "      <td>1001.0</td>\n",
              "      <td>0.11840</td>\n",
              "      <td>0.27760</td>\n",
              "      <td>0.3001</td>\n",
              "      <td>0.14710</td>\n",
              "      <td>0.2419</td>\n",
              "      <td>0.07871</td>\n",
              "      <td>1.0950</td>\n",
              "      <td>0.9053</td>\n",
              "      <td>8.589</td>\n",
              "      <td>153.40</td>\n",
              "      <td>0.006399</td>\n",
              "      <td>0.04904</td>\n",
              "      <td>0.05373</td>\n",
              "      <td>0.01587</td>\n",
              "      <td>0.03003</td>\n",
              "      <td>0.006193</td>\n",
              "      <td>25.38</td>\n",
              "      <td>17.33</td>\n",
              "      <td>184.60</td>\n",
              "      <td>2019.0</td>\n",
              "      <td>0.1622</td>\n",
              "      <td>0.6656</td>\n",
              "      <td>0.7119</td>\n",
              "      <td>0.2654</td>\n",
              "      <td>0.4601</td>\n",
              "      <td>0.11890</td>\n",
              "    </tr>\n",
              "    <tr>\n",
              "      <th>842517</th>\n",
              "      <td>1</td>\n",
              "      <td>20.57</td>\n",
              "      <td>17.77</td>\n",
              "      <td>132.90</td>\n",
              "      <td>1326.0</td>\n",
              "      <td>0.08474</td>\n",
              "      <td>0.07864</td>\n",
              "      <td>0.0869</td>\n",
              "      <td>0.07017</td>\n",
              "      <td>0.1812</td>\n",
              "      <td>0.05667</td>\n",
              "      <td>0.5435</td>\n",
              "      <td>0.7339</td>\n",
              "      <td>3.398</td>\n",
              "      <td>74.08</td>\n",
              "      <td>0.005225</td>\n",
              "      <td>0.01308</td>\n",
              "      <td>0.01860</td>\n",
              "      <td>0.01340</td>\n",
              "      <td>0.01389</td>\n",
              "      <td>0.003532</td>\n",
              "      <td>24.99</td>\n",
              "      <td>23.41</td>\n",
              "      <td>158.80</td>\n",
              "      <td>1956.0</td>\n",
              "      <td>0.1238</td>\n",
              "      <td>0.1866</td>\n",
              "      <td>0.2416</td>\n",
              "      <td>0.1860</td>\n",
              "      <td>0.2750</td>\n",
              "      <td>0.08902</td>\n",
              "    </tr>\n",
              "    <tr>\n",
              "      <th>84300903</th>\n",
              "      <td>1</td>\n",
              "      <td>19.69</td>\n",
              "      <td>21.25</td>\n",
              "      <td>130.00</td>\n",
              "      <td>1203.0</td>\n",
              "      <td>0.10960</td>\n",
              "      <td>0.15990</td>\n",
              "      <td>0.1974</td>\n",
              "      <td>0.12790</td>\n",
              "      <td>0.2069</td>\n",
              "      <td>0.05999</td>\n",
              "      <td>0.7456</td>\n",
              "      <td>0.7869</td>\n",
              "      <td>4.585</td>\n",
              "      <td>94.03</td>\n",
              "      <td>0.006150</td>\n",
              "      <td>0.04006</td>\n",
              "      <td>0.03832</td>\n",
              "      <td>0.02058</td>\n",
              "      <td>0.02250</td>\n",
              "      <td>0.004571</td>\n",
              "      <td>23.57</td>\n",
              "      <td>25.53</td>\n",
              "      <td>152.50</td>\n",
              "      <td>1709.0</td>\n",
              "      <td>0.1444</td>\n",
              "      <td>0.4245</td>\n",
              "      <td>0.4504</td>\n",
              "      <td>0.2430</td>\n",
              "      <td>0.3613</td>\n",
              "      <td>0.08758</td>\n",
              "    </tr>\n",
              "    <tr>\n",
              "      <th>84348301</th>\n",
              "      <td>1</td>\n",
              "      <td>11.42</td>\n",
              "      <td>20.38</td>\n",
              "      <td>77.58</td>\n",
              "      <td>386.1</td>\n",
              "      <td>0.14250</td>\n",
              "      <td>0.28390</td>\n",
              "      <td>0.2414</td>\n",
              "      <td>0.10520</td>\n",
              "      <td>0.2597</td>\n",
              "      <td>0.09744</td>\n",
              "      <td>0.4956</td>\n",
              "      <td>1.1560</td>\n",
              "      <td>3.445</td>\n",
              "      <td>27.23</td>\n",
              "      <td>0.009110</td>\n",
              "      <td>0.07458</td>\n",
              "      <td>0.05661</td>\n",
              "      <td>0.01867</td>\n",
              "      <td>0.05963</td>\n",
              "      <td>0.009208</td>\n",
              "      <td>14.91</td>\n",
              "      <td>26.50</td>\n",
              "      <td>98.87</td>\n",
              "      <td>567.7</td>\n",
              "      <td>0.2098</td>\n",
              "      <td>0.8663</td>\n",
              "      <td>0.6869</td>\n",
              "      <td>0.2575</td>\n",
              "      <td>0.6638</td>\n",
              "      <td>0.17300</td>\n",
              "    </tr>\n",
              "    <tr>\n",
              "      <th>84358402</th>\n",
              "      <td>1</td>\n",
              "      <td>20.29</td>\n",
              "      <td>14.34</td>\n",
              "      <td>135.10</td>\n",
              "      <td>1297.0</td>\n",
              "      <td>0.10030</td>\n",
              "      <td>0.13280</td>\n",
              "      <td>0.1980</td>\n",
              "      <td>0.10430</td>\n",
              "      <td>0.1809</td>\n",
              "      <td>0.05883</td>\n",
              "      <td>0.7572</td>\n",
              "      <td>0.7813</td>\n",
              "      <td>5.438</td>\n",
              "      <td>94.44</td>\n",
              "      <td>0.011490</td>\n",
              "      <td>0.02461</td>\n",
              "      <td>0.05688</td>\n",
              "      <td>0.01885</td>\n",
              "      <td>0.01756</td>\n",
              "      <td>0.005115</td>\n",
              "      <td>22.54</td>\n",
              "      <td>16.67</td>\n",
              "      <td>152.20</td>\n",
              "      <td>1575.0</td>\n",
              "      <td>0.1374</td>\n",
              "      <td>0.2050</td>\n",
              "      <td>0.4000</td>\n",
              "      <td>0.1625</td>\n",
              "      <td>0.2364</td>\n",
              "      <td>0.07678</td>\n",
              "    </tr>\n",
              "  </tbody>\n",
              "</table>\n",
              "</div>"
            ],
            "text/plain": [
              "          diagnosis  radius_mean  texture_mean  perimeter_mean  area_mean  \\\n",
              "id                                                                          \n",
              "842302            1        17.99         10.38          122.80     1001.0   \n",
              "842517            1        20.57         17.77          132.90     1326.0   \n",
              "84300903          1        19.69         21.25          130.00     1203.0   \n",
              "84348301          1        11.42         20.38           77.58      386.1   \n",
              "84358402          1        20.29         14.34          135.10     1297.0   \n",
              "\n",
              "          smoothness_mean  compactness_mean  concavity_mean  \\\n",
              "id                                                            \n",
              "842302            0.11840           0.27760          0.3001   \n",
              "842517            0.08474           0.07864          0.0869   \n",
              "84300903          0.10960           0.15990          0.1974   \n",
              "84348301          0.14250           0.28390          0.2414   \n",
              "84358402          0.10030           0.13280          0.1980   \n",
              "\n",
              "          concave points_mean  symmetry_mean  fractal_dimension_mean  \\\n",
              "id                                                                     \n",
              "842302                0.14710         0.2419                 0.07871   \n",
              "842517                0.07017         0.1812                 0.05667   \n",
              "84300903              0.12790         0.2069                 0.05999   \n",
              "84348301              0.10520         0.2597                 0.09744   \n",
              "84358402              0.10430         0.1809                 0.05883   \n",
              "\n",
              "          radius_se  texture_se  perimeter_se  area_se  smoothness_se  \\\n",
              "id                                                                      \n",
              "842302       1.0950      0.9053         8.589   153.40       0.006399   \n",
              "842517       0.5435      0.7339         3.398    74.08       0.005225   \n",
              "84300903     0.7456      0.7869         4.585    94.03       0.006150   \n",
              "84348301     0.4956      1.1560         3.445    27.23       0.009110   \n",
              "84358402     0.7572      0.7813         5.438    94.44       0.011490   \n",
              "\n",
              "          compactness_se  concavity_se  concave points_se  symmetry_se  \\\n",
              "id                                                                       \n",
              "842302           0.04904       0.05373            0.01587      0.03003   \n",
              "842517           0.01308       0.01860            0.01340      0.01389   \n",
              "84300903         0.04006       0.03832            0.02058      0.02250   \n",
              "84348301         0.07458       0.05661            0.01867      0.05963   \n",
              "84358402         0.02461       0.05688            0.01885      0.01756   \n",
              "\n",
              "          fractal_dimension_se  radius_worst  texture_worst  perimeter_worst  \\\n",
              "id                                                                             \n",
              "842302                0.006193         25.38          17.33           184.60   \n",
              "842517                0.003532         24.99          23.41           158.80   \n",
              "84300903              0.004571         23.57          25.53           152.50   \n",
              "84348301              0.009208         14.91          26.50            98.87   \n",
              "84358402              0.005115         22.54          16.67           152.20   \n",
              "\n",
              "          area_worst  smoothness_worst  compactness_worst  concavity_worst  \\\n",
              "id                                                                           \n",
              "842302        2019.0            0.1622             0.6656           0.7119   \n",
              "842517        1956.0            0.1238             0.1866           0.2416   \n",
              "84300903      1709.0            0.1444             0.4245           0.4504   \n",
              "84348301       567.7            0.2098             0.8663           0.6869   \n",
              "84358402      1575.0            0.1374             0.2050           0.4000   \n",
              "\n",
              "          concave points_worst  symmetry_worst  fractal_dimension_worst  \n",
              "id                                                                       \n",
              "842302                  0.2654          0.4601                  0.11890  \n",
              "842517                  0.1860          0.2750                  0.08902  \n",
              "84300903                0.2430          0.3613                  0.08758  \n",
              "84348301                0.2575          0.6638                  0.17300  \n",
              "84358402                0.1625          0.2364                  0.07678  "
            ]
          },
          "metadata": {
            "tags": []
          },
          "execution_count": 42
        }
      ]
    },
    {
      "cell_type": "code",
      "metadata": {
        "colab": {
          "base_uri": "https://localhost:8080/"
        },
        "id": "hs8JNdAkHE7i",
        "outputId": "94255c23-aeb8-4384-e6eb-f2ccb9decac3"
      },
      "source": [
        "print(\"Here's the dimensions of our data frame:\\n\", \n",
        "     breast_cancer.shape)\n",
        "print(\"Here's the data types of our columns:\\n\",\n",
        "     breast_cancer.dtypes)"
      ],
      "execution_count": 43,
      "outputs": [
        {
          "output_type": "stream",
          "text": [
            "Here's the dimensions of our data frame:\n",
            " (569, 31)\n",
            "Here's the data types of our columns:\n",
            " diagnosis                    int64\n",
            "radius_mean                float64\n",
            "texture_mean               float64\n",
            "perimeter_mean             float64\n",
            "area_mean                  float64\n",
            "smoothness_mean            float64\n",
            "compactness_mean           float64\n",
            "concavity_mean             float64\n",
            "concave points_mean        float64\n",
            "symmetry_mean              float64\n",
            "fractal_dimension_mean     float64\n",
            "radius_se                  float64\n",
            "texture_se                 float64\n",
            "perimeter_se               float64\n",
            "area_se                    float64\n",
            "smoothness_se              float64\n",
            "compactness_se             float64\n",
            "concavity_se               float64\n",
            "concave points_se          float64\n",
            "symmetry_se                float64\n",
            "fractal_dimension_se       float64\n",
            "radius_worst               float64\n",
            "texture_worst              float64\n",
            "perimeter_worst            float64\n",
            "area_worst                 float64\n",
            "smoothness_worst           float64\n",
            "compactness_worst          float64\n",
            "concavity_worst            float64\n",
            "concave points_worst       float64\n",
            "symmetry_worst             float64\n",
            "fractal_dimension_worst    float64\n",
            "dtype: object\n"
          ],
          "name": "stdout"
        }
      ]
    },
    {
      "cell_type": "code",
      "metadata": {
        "id": "AcCNqOwKHI_f"
      },
      "source": [
        "def print_dx_perc(data_frame, col):\n",
        "    \"\"\"Function used to print class distribution for our data set\"\"\"\n",
        "    try:\n",
        "        # Stores value counts\n",
        "        col_vals = data_frame[col].value_counts()\n",
        "        # Resets index to make index a column in data frame\n",
        "        col_vals = col_vals.reset_index()\n",
        "        # If the number of unique instances in column exceeds 20 print warning\n",
        "        if len(col_vals['index']) > 20:\n",
        "            print('Warning: values in column are more than 20 \\nPlease try a column with lower value counts!')\n",
        "        # Else it calculates/prints percentage for each unique value in column\n",
        "        else:\n",
        "            # Create a function to output the percentage\n",
        "            f = lambda x, y: 100 * (x / sum(y))\n",
        "            for i in range(0, len(col_vals['index'])):\n",
        "                print('{0} accounts for {1:.2f}% of the {2} column'\\\n",
        "                      .format(col_vals['index'][i],\n",
        "                              f(col_vals[col].iloc[i],\n",
        "                                col_vals[col]),\n",
        "                              col))\n",
        "    # try-except block goes here if it can't find the column in data frame\n",
        "    except KeyError as e:\n",
        "        print('{0}: Not found'.format(e))\n",
        "        print('Please choose the right column name!')"
      ],
      "execution_count": 44,
      "outputs": []
    },
    {
      "cell_type": "code",
      "metadata": {
        "colab": {
          "base_uri": "https://localhost:8080/"
        },
        "id": "meBztJqrHV03",
        "outputId": "dfcf3aa2-a892-4a09-c8b9-f3ef62e93464"
      },
      "source": [
        "print_dx_perc(breast_cancer, 'diagnosis')"
      ],
      "execution_count": 45,
      "outputs": [
        {
          "output_type": "stream",
          "text": [
            "0 accounts for 62.74% of the diagnosis column\n",
            "1 accounts for 37.26% of the diagnosis column\n"
          ],
          "name": "stdout"
        }
      ]
    },
    {
      "cell_type": "code",
      "metadata": {
        "colab": {
          "base_uri": "https://localhost:8080/",
          "height": 334
        },
        "id": "U4hZht1hHa4g",
        "outputId": "e50902bb-c516-48b7-fec7-a93809256e07"
      },
      "source": [
        "breast_cancer.describe()\n"
      ],
      "execution_count": 46,
      "outputs": [
        {
          "output_type": "execute_result",
          "data": {
            "text/html": [
              "<div>\n",
              "<style scoped>\n",
              "    .dataframe tbody tr th:only-of-type {\n",
              "        vertical-align: middle;\n",
              "    }\n",
              "\n",
              "    .dataframe tbody tr th {\n",
              "        vertical-align: top;\n",
              "    }\n",
              "\n",
              "    .dataframe thead th {\n",
              "        text-align: right;\n",
              "    }\n",
              "</style>\n",
              "<table border=\"1\" class=\"dataframe\">\n",
              "  <thead>\n",
              "    <tr style=\"text-align: right;\">\n",
              "      <th></th>\n",
              "      <th>diagnosis</th>\n",
              "      <th>radius_mean</th>\n",
              "      <th>texture_mean</th>\n",
              "      <th>perimeter_mean</th>\n",
              "      <th>area_mean</th>\n",
              "      <th>smoothness_mean</th>\n",
              "      <th>compactness_mean</th>\n",
              "      <th>concavity_mean</th>\n",
              "      <th>concave points_mean</th>\n",
              "      <th>symmetry_mean</th>\n",
              "      <th>fractal_dimension_mean</th>\n",
              "      <th>radius_se</th>\n",
              "      <th>texture_se</th>\n",
              "      <th>perimeter_se</th>\n",
              "      <th>area_se</th>\n",
              "      <th>smoothness_se</th>\n",
              "      <th>compactness_se</th>\n",
              "      <th>concavity_se</th>\n",
              "      <th>concave points_se</th>\n",
              "      <th>symmetry_se</th>\n",
              "      <th>fractal_dimension_se</th>\n",
              "      <th>radius_worst</th>\n",
              "      <th>texture_worst</th>\n",
              "      <th>perimeter_worst</th>\n",
              "      <th>area_worst</th>\n",
              "      <th>smoothness_worst</th>\n",
              "      <th>compactness_worst</th>\n",
              "      <th>concavity_worst</th>\n",
              "      <th>concave points_worst</th>\n",
              "      <th>symmetry_worst</th>\n",
              "      <th>fractal_dimension_worst</th>\n",
              "    </tr>\n",
              "  </thead>\n",
              "  <tbody>\n",
              "    <tr>\n",
              "      <th>count</th>\n",
              "      <td>569.000000</td>\n",
              "      <td>569.000000</td>\n",
              "      <td>569.000000</td>\n",
              "      <td>569.000000</td>\n",
              "      <td>569.000000</td>\n",
              "      <td>569.000000</td>\n",
              "      <td>569.000000</td>\n",
              "      <td>569.000000</td>\n",
              "      <td>569.000000</td>\n",
              "      <td>569.000000</td>\n",
              "      <td>569.000000</td>\n",
              "      <td>569.000000</td>\n",
              "      <td>569.000000</td>\n",
              "      <td>569.000000</td>\n",
              "      <td>569.000000</td>\n",
              "      <td>569.000000</td>\n",
              "      <td>569.000000</td>\n",
              "      <td>569.000000</td>\n",
              "      <td>569.000000</td>\n",
              "      <td>569.000000</td>\n",
              "      <td>569.000000</td>\n",
              "      <td>569.000000</td>\n",
              "      <td>569.000000</td>\n",
              "      <td>569.000000</td>\n",
              "      <td>569.000000</td>\n",
              "      <td>569.000000</td>\n",
              "      <td>569.000000</td>\n",
              "      <td>569.000000</td>\n",
              "      <td>569.000000</td>\n",
              "      <td>569.000000</td>\n",
              "      <td>569.000000</td>\n",
              "    </tr>\n",
              "    <tr>\n",
              "      <th>mean</th>\n",
              "      <td>0.372583</td>\n",
              "      <td>14.127292</td>\n",
              "      <td>19.289649</td>\n",
              "      <td>91.969033</td>\n",
              "      <td>654.889104</td>\n",
              "      <td>0.096360</td>\n",
              "      <td>0.104341</td>\n",
              "      <td>0.088799</td>\n",
              "      <td>0.048919</td>\n",
              "      <td>0.181162</td>\n",
              "      <td>0.062798</td>\n",
              "      <td>0.405172</td>\n",
              "      <td>1.216853</td>\n",
              "      <td>2.866059</td>\n",
              "      <td>40.337079</td>\n",
              "      <td>0.007041</td>\n",
              "      <td>0.025478</td>\n",
              "      <td>0.031894</td>\n",
              "      <td>0.011796</td>\n",
              "      <td>0.020542</td>\n",
              "      <td>0.003795</td>\n",
              "      <td>16.269190</td>\n",
              "      <td>25.677223</td>\n",
              "      <td>107.261213</td>\n",
              "      <td>880.583128</td>\n",
              "      <td>0.132369</td>\n",
              "      <td>0.254265</td>\n",
              "      <td>0.272188</td>\n",
              "      <td>0.114606</td>\n",
              "      <td>0.290076</td>\n",
              "      <td>0.083946</td>\n",
              "    </tr>\n",
              "    <tr>\n",
              "      <th>std</th>\n",
              "      <td>0.483918</td>\n",
              "      <td>3.524049</td>\n",
              "      <td>4.301036</td>\n",
              "      <td>24.298981</td>\n",
              "      <td>351.914129</td>\n",
              "      <td>0.014064</td>\n",
              "      <td>0.052813</td>\n",
              "      <td>0.079720</td>\n",
              "      <td>0.038803</td>\n",
              "      <td>0.027414</td>\n",
              "      <td>0.007060</td>\n",
              "      <td>0.277313</td>\n",
              "      <td>0.551648</td>\n",
              "      <td>2.021855</td>\n",
              "      <td>45.491006</td>\n",
              "      <td>0.003003</td>\n",
              "      <td>0.017908</td>\n",
              "      <td>0.030186</td>\n",
              "      <td>0.006170</td>\n",
              "      <td>0.008266</td>\n",
              "      <td>0.002646</td>\n",
              "      <td>4.833242</td>\n",
              "      <td>6.146258</td>\n",
              "      <td>33.602542</td>\n",
              "      <td>569.356993</td>\n",
              "      <td>0.022832</td>\n",
              "      <td>0.157336</td>\n",
              "      <td>0.208624</td>\n",
              "      <td>0.065732</td>\n",
              "      <td>0.061867</td>\n",
              "      <td>0.018061</td>\n",
              "    </tr>\n",
              "    <tr>\n",
              "      <th>min</th>\n",
              "      <td>0.000000</td>\n",
              "      <td>6.981000</td>\n",
              "      <td>9.710000</td>\n",
              "      <td>43.790000</td>\n",
              "      <td>143.500000</td>\n",
              "      <td>0.052630</td>\n",
              "      <td>0.019380</td>\n",
              "      <td>0.000000</td>\n",
              "      <td>0.000000</td>\n",
              "      <td>0.106000</td>\n",
              "      <td>0.049960</td>\n",
              "      <td>0.111500</td>\n",
              "      <td>0.360200</td>\n",
              "      <td>0.757000</td>\n",
              "      <td>6.802000</td>\n",
              "      <td>0.001713</td>\n",
              "      <td>0.002252</td>\n",
              "      <td>0.000000</td>\n",
              "      <td>0.000000</td>\n",
              "      <td>0.007882</td>\n",
              "      <td>0.000895</td>\n",
              "      <td>7.930000</td>\n",
              "      <td>12.020000</td>\n",
              "      <td>50.410000</td>\n",
              "      <td>185.200000</td>\n",
              "      <td>0.071170</td>\n",
              "      <td>0.027290</td>\n",
              "      <td>0.000000</td>\n",
              "      <td>0.000000</td>\n",
              "      <td>0.156500</td>\n",
              "      <td>0.055040</td>\n",
              "    </tr>\n",
              "    <tr>\n",
              "      <th>25%</th>\n",
              "      <td>0.000000</td>\n",
              "      <td>11.700000</td>\n",
              "      <td>16.170000</td>\n",
              "      <td>75.170000</td>\n",
              "      <td>420.300000</td>\n",
              "      <td>0.086370</td>\n",
              "      <td>0.064920</td>\n",
              "      <td>0.029560</td>\n",
              "      <td>0.020310</td>\n",
              "      <td>0.161900</td>\n",
              "      <td>0.057700</td>\n",
              "      <td>0.232400</td>\n",
              "      <td>0.833900</td>\n",
              "      <td>1.606000</td>\n",
              "      <td>17.850000</td>\n",
              "      <td>0.005169</td>\n",
              "      <td>0.013080</td>\n",
              "      <td>0.015090</td>\n",
              "      <td>0.007638</td>\n",
              "      <td>0.015160</td>\n",
              "      <td>0.002248</td>\n",
              "      <td>13.010000</td>\n",
              "      <td>21.080000</td>\n",
              "      <td>84.110000</td>\n",
              "      <td>515.300000</td>\n",
              "      <td>0.116600</td>\n",
              "      <td>0.147200</td>\n",
              "      <td>0.114500</td>\n",
              "      <td>0.064930</td>\n",
              "      <td>0.250400</td>\n",
              "      <td>0.071460</td>\n",
              "    </tr>\n",
              "    <tr>\n",
              "      <th>50%</th>\n",
              "      <td>0.000000</td>\n",
              "      <td>13.370000</td>\n",
              "      <td>18.840000</td>\n",
              "      <td>86.240000</td>\n",
              "      <td>551.100000</td>\n",
              "      <td>0.095870</td>\n",
              "      <td>0.092630</td>\n",
              "      <td>0.061540</td>\n",
              "      <td>0.033500</td>\n",
              "      <td>0.179200</td>\n",
              "      <td>0.061540</td>\n",
              "      <td>0.324200</td>\n",
              "      <td>1.108000</td>\n",
              "      <td>2.287000</td>\n",
              "      <td>24.530000</td>\n",
              "      <td>0.006380</td>\n",
              "      <td>0.020450</td>\n",
              "      <td>0.025890</td>\n",
              "      <td>0.010930</td>\n",
              "      <td>0.018730</td>\n",
              "      <td>0.003187</td>\n",
              "      <td>14.970000</td>\n",
              "      <td>25.410000</td>\n",
              "      <td>97.660000</td>\n",
              "      <td>686.500000</td>\n",
              "      <td>0.131300</td>\n",
              "      <td>0.211900</td>\n",
              "      <td>0.226700</td>\n",
              "      <td>0.099930</td>\n",
              "      <td>0.282200</td>\n",
              "      <td>0.080040</td>\n",
              "    </tr>\n",
              "    <tr>\n",
              "      <th>75%</th>\n",
              "      <td>1.000000</td>\n",
              "      <td>15.780000</td>\n",
              "      <td>21.800000</td>\n",
              "      <td>104.100000</td>\n",
              "      <td>782.700000</td>\n",
              "      <td>0.105300</td>\n",
              "      <td>0.130400</td>\n",
              "      <td>0.130700</td>\n",
              "      <td>0.074000</td>\n",
              "      <td>0.195700</td>\n",
              "      <td>0.066120</td>\n",
              "      <td>0.478900</td>\n",
              "      <td>1.474000</td>\n",
              "      <td>3.357000</td>\n",
              "      <td>45.190000</td>\n",
              "      <td>0.008146</td>\n",
              "      <td>0.032450</td>\n",
              "      <td>0.042050</td>\n",
              "      <td>0.014710</td>\n",
              "      <td>0.023480</td>\n",
              "      <td>0.004558</td>\n",
              "      <td>18.790000</td>\n",
              "      <td>29.720000</td>\n",
              "      <td>125.400000</td>\n",
              "      <td>1084.000000</td>\n",
              "      <td>0.146000</td>\n",
              "      <td>0.339100</td>\n",
              "      <td>0.382900</td>\n",
              "      <td>0.161400</td>\n",
              "      <td>0.317900</td>\n",
              "      <td>0.092080</td>\n",
              "    </tr>\n",
              "    <tr>\n",
              "      <th>max</th>\n",
              "      <td>1.000000</td>\n",
              "      <td>28.110000</td>\n",
              "      <td>39.280000</td>\n",
              "      <td>188.500000</td>\n",
              "      <td>2501.000000</td>\n",
              "      <td>0.163400</td>\n",
              "      <td>0.345400</td>\n",
              "      <td>0.426800</td>\n",
              "      <td>0.201200</td>\n",
              "      <td>0.304000</td>\n",
              "      <td>0.097440</td>\n",
              "      <td>2.873000</td>\n",
              "      <td>4.885000</td>\n",
              "      <td>21.980000</td>\n",
              "      <td>542.200000</td>\n",
              "      <td>0.031130</td>\n",
              "      <td>0.135400</td>\n",
              "      <td>0.396000</td>\n",
              "      <td>0.052790</td>\n",
              "      <td>0.078950</td>\n",
              "      <td>0.029840</td>\n",
              "      <td>36.040000</td>\n",
              "      <td>49.540000</td>\n",
              "      <td>251.200000</td>\n",
              "      <td>4254.000000</td>\n",
              "      <td>0.222600</td>\n",
              "      <td>1.058000</td>\n",
              "      <td>1.252000</td>\n",
              "      <td>0.291000</td>\n",
              "      <td>0.663800</td>\n",
              "      <td>0.207500</td>\n",
              "    </tr>\n",
              "  </tbody>\n",
              "</table>\n",
              "</div>"
            ],
            "text/plain": [
              "        diagnosis  radius_mean  texture_mean  perimeter_mean    area_mean  \\\n",
              "count  569.000000   569.000000    569.000000      569.000000   569.000000   \n",
              "mean     0.372583    14.127292     19.289649       91.969033   654.889104   \n",
              "std      0.483918     3.524049      4.301036       24.298981   351.914129   \n",
              "min      0.000000     6.981000      9.710000       43.790000   143.500000   \n",
              "25%      0.000000    11.700000     16.170000       75.170000   420.300000   \n",
              "50%      0.000000    13.370000     18.840000       86.240000   551.100000   \n",
              "75%      1.000000    15.780000     21.800000      104.100000   782.700000   \n",
              "max      1.000000    28.110000     39.280000      188.500000  2501.000000   \n",
              "\n",
              "       smoothness_mean  compactness_mean  concavity_mean  concave points_mean  \\\n",
              "count       569.000000        569.000000      569.000000           569.000000   \n",
              "mean          0.096360          0.104341        0.088799             0.048919   \n",
              "std           0.014064          0.052813        0.079720             0.038803   \n",
              "min           0.052630          0.019380        0.000000             0.000000   \n",
              "25%           0.086370          0.064920        0.029560             0.020310   \n",
              "50%           0.095870          0.092630        0.061540             0.033500   \n",
              "75%           0.105300          0.130400        0.130700             0.074000   \n",
              "max           0.163400          0.345400        0.426800             0.201200   \n",
              "\n",
              "       symmetry_mean  fractal_dimension_mean   radius_se  texture_se  \\\n",
              "count     569.000000              569.000000  569.000000  569.000000   \n",
              "mean        0.181162                0.062798    0.405172    1.216853   \n",
              "std         0.027414                0.007060    0.277313    0.551648   \n",
              "min         0.106000                0.049960    0.111500    0.360200   \n",
              "25%         0.161900                0.057700    0.232400    0.833900   \n",
              "50%         0.179200                0.061540    0.324200    1.108000   \n",
              "75%         0.195700                0.066120    0.478900    1.474000   \n",
              "max         0.304000                0.097440    2.873000    4.885000   \n",
              "\n",
              "       perimeter_se     area_se  smoothness_se  compactness_se  concavity_se  \\\n",
              "count    569.000000  569.000000     569.000000      569.000000    569.000000   \n",
              "mean       2.866059   40.337079       0.007041        0.025478      0.031894   \n",
              "std        2.021855   45.491006       0.003003        0.017908      0.030186   \n",
              "min        0.757000    6.802000       0.001713        0.002252      0.000000   \n",
              "25%        1.606000   17.850000       0.005169        0.013080      0.015090   \n",
              "50%        2.287000   24.530000       0.006380        0.020450      0.025890   \n",
              "75%        3.357000   45.190000       0.008146        0.032450      0.042050   \n",
              "max       21.980000  542.200000       0.031130        0.135400      0.396000   \n",
              "\n",
              "       concave points_se  symmetry_se  fractal_dimension_se  radius_worst  \\\n",
              "count         569.000000   569.000000            569.000000    569.000000   \n",
              "mean            0.011796     0.020542              0.003795     16.269190   \n",
              "std             0.006170     0.008266              0.002646      4.833242   \n",
              "min             0.000000     0.007882              0.000895      7.930000   \n",
              "25%             0.007638     0.015160              0.002248     13.010000   \n",
              "50%             0.010930     0.018730              0.003187     14.970000   \n",
              "75%             0.014710     0.023480              0.004558     18.790000   \n",
              "max             0.052790     0.078950              0.029840     36.040000   \n",
              "\n",
              "       texture_worst  perimeter_worst   area_worst  smoothness_worst  \\\n",
              "count     569.000000       569.000000   569.000000        569.000000   \n",
              "mean       25.677223       107.261213   880.583128          0.132369   \n",
              "std         6.146258        33.602542   569.356993          0.022832   \n",
              "min        12.020000        50.410000   185.200000          0.071170   \n",
              "25%        21.080000        84.110000   515.300000          0.116600   \n",
              "50%        25.410000        97.660000   686.500000          0.131300   \n",
              "75%        29.720000       125.400000  1084.000000          0.146000   \n",
              "max        49.540000       251.200000  4254.000000          0.222600   \n",
              "\n",
              "       compactness_worst  concavity_worst  concave points_worst  \\\n",
              "count         569.000000       569.000000            569.000000   \n",
              "mean            0.254265         0.272188              0.114606   \n",
              "std             0.157336         0.208624              0.065732   \n",
              "min             0.027290         0.000000              0.000000   \n",
              "25%             0.147200         0.114500              0.064930   \n",
              "50%             0.211900         0.226700              0.099930   \n",
              "75%             0.339100         0.382900              0.161400   \n",
              "max             1.058000         1.252000              0.291000   \n",
              "\n",
              "       symmetry_worst  fractal_dimension_worst  \n",
              "count      569.000000               569.000000  \n",
              "mean         0.290076                 0.083946  \n",
              "std          0.061867                 0.018061  \n",
              "min          0.156500                 0.055040  \n",
              "25%          0.250400                 0.071460  \n",
              "50%          0.282200                 0.080040  \n",
              "75%          0.317900                 0.092080  \n",
              "max          0.663800                 0.207500  "
            ]
          },
          "metadata": {
            "tags": []
          },
          "execution_count": 46
        }
      ]
    },
    {
      "cell_type": "code",
      "metadata": {
        "id": "HNM-LoS-HebZ"
      },
      "source": [
        "feature_space = breast_cancer.iloc[:, breast_cancer.columns != 'diagnosis']\n",
        "feature_class = breast_cancer.iloc[:, breast_cancer.columns == 'diagnosis']\n",
        "\n",
        "\n",
        "training_set, test_set, class_set, test_class_set = train_test_split(feature_space,\n",
        "                                                                    feature_class,\n",
        "                                                                    test_size = 0.20, \n",
        "                                                                    random_state = 42)"
      ],
      "execution_count": 47,
      "outputs": []
    },
    {
      "cell_type": "code",
      "metadata": {
        "id": "5e7dIgIcHlsR"
      },
      "source": [
        "# Cleaning test sets to avoid future warning messages\n",
        "class_set = class_set.values.ravel() \n",
        "test_class_set = test_class_set.values.ravel() "
      ],
      "execution_count": 48,
      "outputs": []
    },
    {
      "cell_type": "code",
      "metadata": {
        "id": "Vd_gwK9RHrOw"
      },
      "source": [
        "# Set the random state for reproducibility\n",
        "fit_rf = RandomForestClassifier(random_state=42)"
      ],
      "execution_count": 49,
      "outputs": []
    },
    {
      "cell_type": "code",
      "metadata": {
        "colab": {
          "base_uri": "https://localhost:8080/"
        },
        "id": "m_ZI_0cvHw-b",
        "outputId": "8df454b5-94e3-4a1c-d4ac-e630fdaa223e"
      },
      "source": [
        "np.random.seed(42)\n",
        "start = time.time()\n",
        "\n",
        "param_dist = {'max_depth': [2, 3, 4],\n",
        "              'bootstrap': [True, False],\n",
        "              'max_features': ['auto', 'sqrt', 'log2', None],\n",
        "              'criterion': ['gini', 'entropy']}\n",
        "\n",
        "cv_rf = GridSearchCV(fit_rf, cv = 10,\n",
        "                     param_grid=param_dist, \n",
        "                     n_jobs = 3)\n",
        "\n",
        "cv_rf.fit(training_set, class_set)\n",
        "print('Best Parameters using grid search: \\n', \n",
        "      cv_rf.best_params_)\n",
        "end = time.time()\n",
        "print('Time taken in grid search: {0: .2f}'.format(end - start))"
      ],
      "execution_count": 50,
      "outputs": [
        {
          "output_type": "stream",
          "text": [
            "Best Parameters using grid search: \n",
            " {'bootstrap': True, 'criterion': 'entropy', 'max_depth': 4, 'max_features': 'log2'}\n",
            "Time taken in grid search:  110.48\n"
          ],
          "name": "stdout"
        }
      ]
    },
    {
      "cell_type": "code",
      "metadata": {
        "colab": {
          "base_uri": "https://localhost:8080/"
        },
        "id": "jZqhwIgyH4da",
        "outputId": "f7a179f7-aa6a-4761-ee73-319225a4a6db"
      },
      "source": [
        "# Set best parameters given by grid search \n",
        "fit_rf.set_params(criterion = 'gini',\n",
        "                  max_features = 'log2', \n",
        "                  max_depth = 3)"
      ],
      "execution_count": 51,
      "outputs": [
        {
          "output_type": "execute_result",
          "data": {
            "text/plain": [
              "RandomForestClassifier(bootstrap=True, ccp_alpha=0.0, class_weight=None,\n",
              "                       criterion='gini', max_depth=3, max_features='log2',\n",
              "                       max_leaf_nodes=None, max_samples=None,\n",
              "                       min_impurity_decrease=0.0, min_impurity_split=None,\n",
              "                       min_samples_leaf=1, min_samples_split=2,\n",
              "                       min_weight_fraction_leaf=0.0, n_estimators=100,\n",
              "                       n_jobs=None, oob_score=False, random_state=42, verbose=0,\n",
              "                       warm_start=False)"
            ]
          },
          "metadata": {
            "tags": []
          },
          "execution_count": 51
        }
      ]
    },
    {
      "cell_type": "code",
      "metadata": {
        "id": "RDzllUh6H8o4"
      },
      "source": [
        "fit_rf.set_params(warm_start=True, \n",
        "                  oob_score=True)\n",
        "\n",
        "min_estimators = 15\n",
        "max_estimators = 1000\n",
        "\n",
        "error_rate = {}\n",
        "\n",
        "for i in range(min_estimators, max_estimators + 1):\n",
        "    fit_rf.set_params(n_estimators=i)\n",
        "    fit_rf.fit(training_set, class_set)\n",
        "\n",
        "    oob_error = 1 - fit_rf.oob_score_\n",
        "    error_rate[i] = oob_error"
      ],
      "execution_count": 52,
      "outputs": []
    },
    {
      "cell_type": "code",
      "metadata": {
        "id": "LPQEKX14IDqs"
      },
      "source": [
        "# Convert dictionary to a pandas series for easy plotting \n",
        "oob_series = pd.Series(error_rate)"
      ],
      "execution_count": 53,
      "outputs": []
    },
    {
      "cell_type": "code",
      "metadata": {
        "colab": {
          "base_uri": "https://localhost:8080/",
          "height": 659
        },
        "id": "jfRhshG4IIAz",
        "outputId": "66ac7766-112a-48e1-8954-9685bd58e4c3"
      },
      "source": [
        "fig, ax = plt.subplots(figsize=(10, 10))\n",
        "\n",
        "ax.set_facecolor('#fafafa')\n",
        "\n",
        "oob_series.plot(kind='line',\n",
        "                color = 'red')\n",
        "plt.axhline(0.055, \n",
        "            color='#875FDB',\n",
        "           linestyle='--')\n",
        "plt.axhline(0.05, \n",
        "            color='#875FDB',\n",
        "           linestyle='--')\n",
        "plt.xlabel('n_estimators')\n",
        "plt.ylabel('OOB Error Rate')\n",
        "plt.title('OOB Error Rate Across various Forest sizes \\n(From 15 to 1000 trees)')"
      ],
      "execution_count": 54,
      "outputs": [
        {
          "output_type": "execute_result",
          "data": {
            "text/plain": [
              "Text(0.5, 1.0, 'OOB Error Rate Across various Forest sizes \\n(From 15 to 1000 trees)')"
            ]
          },
          "metadata": {
            "tags": []
          },
          "execution_count": 54
        },
        {
          "output_type": "display_data",
          "data": {
            "image/png": "[encoded data removed]",
            "text/plain": [
              "<Figure size 720x720 with 1 Axes>"
            ]
          },
          "metadata": {
            "tags": []
          }
        }
      ]
    },
    {
      "cell_type": "code",
      "metadata": {
        "colab": {
          "base_uri": "https://localhost:8080/"
        },
        "id": "BYQsy1MiITz8",
        "outputId": "b11349eb-a21f-47d5-9247-f95e11f0efe1"
      },
      "source": [
        "print('OOB Error rate for 400 trees is: {0:.5f}'.format(oob_series[400]))"
      ],
      "execution_count": 55,
      "outputs": [
        {
          "output_type": "stream",
          "text": [
            "OOB Error rate for 400 trees is: 0.04835\n"
          ],
          "name": "stdout"
        }
      ]
    },
    {
      "cell_type": "code",
      "metadata": {
        "colab": {
          "base_uri": "https://localhost:8080/"
        },
        "id": "DySqhb0zIYHh",
        "outputId": "3870cc8c-193a-43d0-c8c1-faadae0f5c9c"
      },
      "source": [
        "fit_rf.set_params(n_estimators=400,\n",
        "                  bootstrap = True,\n",
        "                  warm_start=False, \n",
        "                  oob_score=False)"
      ],
      "execution_count": 56,
      "outputs": [
        {
          "output_type": "execute_result",
          "data": {
            "text/plain": [
              "RandomForestClassifier(bootstrap=True, ccp_alpha=0.0, class_weight=None,\n",
              "                       criterion='gini', max_depth=3, max_features='log2',\n",
              "                       max_leaf_nodes=None, max_samples=None,\n",
              "                       min_impurity_decrease=0.0, min_impurity_split=None,\n",
              "                       min_samples_leaf=1, min_samples_split=2,\n",
              "                       min_weight_fraction_leaf=0.0, n_estimators=400,\n",
              "                       n_jobs=None, oob_score=False, random_state=42, verbose=0,\n",
              "                       warm_start=False)"
            ]
          },
          "metadata": {
            "tags": []
          },
          "execution_count": 56
        }
      ]
    },
    {
      "cell_type": "code",
      "metadata": {
        "colab": {
          "base_uri": "https://localhost:8080/"
        },
        "id": "3mV3mjjDIepi",
        "outputId": "4f15c0e0-0cd5-4de0-fd7a-31e824d7c0a4"
      },
      "source": [
        "fit_rf.fit(training_set, class_set)"
      ],
      "execution_count": 57,
      "outputs": [
        {
          "output_type": "execute_result",
          "data": {
            "text/plain": [
              "RandomForestClassifier(bootstrap=True, ccp_alpha=0.0, class_weight=None,\n",
              "                       criterion='gini', max_depth=3, max_features='log2',\n",
              "                       max_leaf_nodes=None, max_samples=None,\n",
              "                       min_impurity_decrease=0.0, min_impurity_split=None,\n",
              "                       min_samples_leaf=1, min_samples_split=2,\n",
              "                       min_weight_fraction_leaf=0.0, n_estimators=400,\n",
              "                       n_jobs=None, oob_score=False, random_state=42, verbose=0,\n",
              "                       warm_start=False)"
            ]
          },
          "metadata": {
            "tags": []
          },
          "execution_count": 57
        }
      ]
    },
    {
      "cell_type": "code",
      "metadata": {
        "id": "WF-6iTHcIiAR"
      },
      "source": [
        "def variable_importance(fit):\n",
        "    \"\"\"\n",
        "    Purpose\n",
        "    ----------\n",
        "    Checks if model is fitted CART model then produces variable importance\n",
        "    and respective indices in dictionary.\n",
        "\n",
        "    Parameters\n",
        "    ----------\n",
        "    * fit:  Fitted model containing the attribute feature_importances_\n",
        "\n",
        "    Returns\n",
        "    ----------\n",
        "    Dictionary containing arrays with importance score and index of columns\n",
        "    ordered in descending order of importance.\n",
        "    \"\"\"\n",
        "    try:\n",
        "        if not hasattr(fit, 'fit'):\n",
        "            return print(\"'{0}' is not an instantiated model from scikit-learn\".format(fit)) \n",
        "\n",
        "        # Captures whether the model has been trained\n",
        "        if not vars(fit)[\"estimators_\"]:\n",
        "            return print(\"Model does not appear to be trained.\")\n",
        "    except KeyError:\n",
        "        print(\"Model entered does not contain 'estimators_' attribute.\")\n",
        "\n",
        "    importances = fit.feature_importances_\n",
        "    indices = np.argsort(importances)[::-1]\n",
        "    return {'importance': importances,\n",
        "            'index': indices}"
      ],
      "execution_count": 58,
      "outputs": []
    },
    {
      "cell_type": "code",
      "metadata": {
        "id": "pnnZPbeLIwfy"
      },
      "source": [
        "var_imp_rf = variable_importance(fit_rf)\n",
        "\n",
        "importances_rf = var_imp_rf['importance']\n",
        "\n",
        "indices_rf = var_imp_rf['index']"
      ],
      "execution_count": 59,
      "outputs": []
    },
    {
      "cell_type": "code",
      "metadata": {
        "id": "Y8p487_PIz07"
      },
      "source": [
        "def print_var_importance(importance, indices, name_index):\n",
        "    \"\"\"\n",
        "    Purpose\n",
        "    ----------\n",
        "    Prints dependent variable names ordered from largest to smallest\n",
        "    based on information gain for CART model.\n",
        "    Parameters\n",
        "    ----------\n",
        "    * importance: Array returned from feature_importances_ for CART\n",
        "                models organized by dataframe index\n",
        "    * indices: Organized index of dataframe from largest to smallest\n",
        "                based on feature_importances_\n",
        "    * name_index: Name of columns included in model\n",
        "\n",
        "    Returns\n",
        "    ----------\n",
        "    Prints feature importance in descending order\n",
        "    \"\"\"\n",
        "    print(\"Feature ranking:\")\n",
        "\n",
        "    for f in range(0, indices.shape[0]):\n",
        "        i = f\n",
        "        print(\"{0}. The feature '{1}' has a Mean Decrease in Impurity of {2:.5f}\"\n",
        "              .format(f + 1,\n",
        "                      names_index[indices[i]],\n",
        "                      importance[indices[f]]))"
      ],
      "execution_count": 60,
      "outputs": []
    },
    {
      "cell_type": "code",
      "metadata": {
        "colab": {
          "base_uri": "https://localhost:8080/"
        },
        "id": "x2hdTYyFI4ZX",
        "outputId": "96a33ab3-f772-4e1e-8a4d-a92adb3cfc42"
      },
      "source": [
        "print_var_importance(importances_rf, indices_rf, names_index)"
      ],
      "execution_count": 61,
      "outputs": [
        {
          "output_type": "stream",
          "text": [
            "Feature ranking:\n",
            "1. The feature 'area_worst' has a Mean Decrease in Impurity of 0.12986\n",
            "2. The feature 'perimeter_worst' has a Mean Decrease in Impurity of 0.12095\n",
            "3. The feature 'concave_points_worst' has a Mean Decrease in Impurity of 0.11555\n",
            "4. The feature 'concave_points_mean' has a Mean Decrease in Impurity of 0.10014\n",
            "5. The feature 'radius_worst' has a Mean Decrease in Impurity of 0.07805\n",
            "6. The feature 'concavity_mean' has a Mean Decrease in Impurity of 0.06214\n",
            "7. The feature 'area_mean' has a Mean Decrease in Impurity of 0.05656\n",
            "8. The feature 'radius_mean' has a Mean Decrease in Impurity of 0.05457\n",
            "9. The feature 'perimeter_mean' has a Mean Decrease in Impurity of 0.05174\n",
            "10. The feature 'area_se' has a Mean Decrease in Impurity of 0.04326\n",
            "11. The feature 'concavity_worst' has a Mean Decrease in Impurity of 0.03866\n",
            "12. The feature 'compactness_worst' has a Mean Decrease in Impurity of 0.02033\n",
            "13. The feature 'compactness_mean' has a Mean Decrease in Impurity of 0.01616\n",
            "14. The feature 'texture_worst' has a Mean Decrease in Impurity of 0.01554\n",
            "15. The feature 'radius_se' has a Mean Decrease in Impurity of 0.01452\n",
            "16. The feature 'perimeter_se' has a Mean Decrease in Impurity of 0.01308\n",
            "17. The feature 'texture_mean' has a Mean Decrease in Impurity of 0.01220\n",
            "18. The feature 'symmetry_worst' has a Mean Decrease in Impurity of 0.01175\n",
            "19. The feature 'smoothness_worst' has a Mean Decrease in Impurity of 0.00938\n",
            "20. The feature 'concavity_se' has a Mean Decrease in Impurity of 0.00910\n",
            "21. The feature 'concave_points_se' has a Mean Decrease in Impurity of 0.00445\n",
            "22. The feature 'smoothness_mean' has a Mean Decrease in Impurity of 0.00398\n",
            "23. The feature 'fractal_dimension_se' has a Mean Decrease in Impurity of 0.00395\n",
            "24. The feature 'fractal_dimension_worst' has a Mean Decrease in Impurity of 0.00267\n",
            "25. The feature 'fractal_dimension_mean' has a Mean Decrease in Impurity of 0.00221\n",
            "26. The feature 'smoothness_se' has a Mean Decrease in Impurity of 0.00217\n",
            "27. The feature 'symmetry_mean' has a Mean Decrease in Impurity of 0.00205\n",
            "28. The feature 'texture_se' has a Mean Decrease in Impurity of 0.00204\n",
            "29. The feature 'symmetry_se' has a Mean Decrease in Impurity of 0.00194\n",
            "30. The feature 'compactness_se' has a Mean Decrease in Impurity of 0.00099\n"
          ],
          "name": "stdout"
        }
      ]
    },
    {
      "cell_type": "code",
      "metadata": {
        "id": "tQmBWp-QI7di"
      },
      "source": [
        "def variable_importance_plot(importance, indices, name_index):\n",
        "    \"\"\"\n",
        "    Purpose\n",
        "    ----------\n",
        "    Prints bar chart detailing variable importance for CART model\n",
        "    NOTE: feature_space list was created because the bar chart\n",
        "    was transposed and index would be in incorrect order.\n",
        "\n",
        "    Parameters\n",
        "    ----------\n",
        "    * importance: Array returned from feature_importances_ for CART\n",
        "                models organized by dataframe index\n",
        "    * indices: Organized index of dataframe from largest to smallest\n",
        "                based on feature_importances_\n",
        "    * name_index: Name of columns included in model\n",
        "\n",
        "    Returns:\n",
        "    ----------\n",
        "    Returns variable importance plot in descending order\n",
        "    \"\"\"\n",
        "    index = np.arange(len(names_index))\n",
        "\n",
        "    importance_desc = sorted(importance)\n",
        "    feature_space = []\n",
        "    for i in range(indices.shape[0] - 1, -1, -1):\n",
        "        feature_space.append(names_index[indices[i]])\n",
        "\n",
        "    fig, ax = plt.subplots(figsize=(10, 10))\n",
        "\n",
        "    ax.set_axis_bgcolor('#fafafa')\n",
        "    plt.title('Feature importances for Random Forest Model\\\n",
        "    \\nBreast Cancer (Diagnostic)')\n",
        "    plt.barh(index,\n",
        "             importance_desc,\n",
        "             align=\"center\",\n",
        "             color = '#875FDB')\n",
        "    plt.yticks(index,\n",
        "               feature_space)\n",
        "\n",
        "    plt.ylim(-1, 30)\n",
        "    plt.xlim(0, max(importance_desc) + 0.01)\n",
        "    plt.xlabel('Mean Decrease in Impurity')\n",
        "    plt.ylabel('Feature')\n",
        "\n",
        "    plt.show()\n",
        "    plt.close()\n"
      ],
      "execution_count": 63,
      "outputs": []
    },
    {
      "cell_type": "code",
      "metadata": {
        "colab": {
          "base_uri": "https://localhost:8080/",
          "height": 861
        },
        "id": "bFAKd1F4JNlm",
        "outputId": "91545aa8-a989-4458-f732-963ebd26f487"
      },
      "source": [
        "variable_importance_plot(importances_rf, indices_rf, names_index)"
      ],
      "execution_count": 64,
      "outputs": [
        {
          "output_type": "error",
          "ename": "AttributeError",
          "evalue": "ignored",
          "traceback": [
            "\u001b[0;31m---------------------------------------------------------------------------\u001b[0m",
            "\u001b[0;31mAttributeError\u001b[0m                            Traceback (most recent call last)",
            "\u001b[0;32m<ipython-input-64-4f54b814b048>\u001b[0m in \u001b[0;36m<module>\u001b[0;34m()\u001b[0m\n\u001b[0;32m----> 1\u001b[0;31m \u001b[0mvariable_importance_plot\u001b[0m\u001b[0;34m(\u001b[0m\u001b[0mimportances_rf\u001b[0m\u001b[0;34m,\u001b[0m \u001b[0mindices_rf\u001b[0m\u001b[0;34m,\u001b[0m \u001b[0mnames_index\u001b[0m\u001b[0;34m)\u001b[0m\u001b[0;34m\u001b[0m\u001b[0;34m\u001b[0m\u001b[0m\n\u001b[0m",
            "\u001b[0;32m<ipython-input-63-5743b7d32bf9>\u001b[0m in \u001b[0;36mvariable_importance_plot\u001b[0;34m(importance, indices, name_index)\u001b[0m\n\u001b[1;32m     28\u001b[0m     \u001b[0mfig\u001b[0m\u001b[0;34m,\u001b[0m \u001b[0max\u001b[0m \u001b[0;34m=\u001b[0m \u001b[0mplt\u001b[0m\u001b[0;34m.\u001b[0m\u001b[0msubplots\u001b[0m\u001b[0;34m(\u001b[0m\u001b[0mfigsize\u001b[0m\u001b[0;34m=\u001b[0m\u001b[0;34m(\u001b[0m\u001b[0;36m10\u001b[0m\u001b[0;34m,\u001b[0m \u001b[0;36m10\u001b[0m\u001b[0;34m)\u001b[0m\u001b[0;34m)\u001b[0m\u001b[0;34m\u001b[0m\u001b[0;34m\u001b[0m\u001b[0m\n\u001b[1;32m     29\u001b[0m \u001b[0;34m\u001b[0m\u001b[0m\n\u001b[0;32m---> 30\u001b[0;31m     \u001b[0max\u001b[0m\u001b[0;34m.\u001b[0m\u001b[0mset_axis_bgcolor\u001b[0m\u001b[0;34m(\u001b[0m\u001b[0;34m'#fafafa'\u001b[0m\u001b[0;34m)\u001b[0m\u001b[0;34m\u001b[0m\u001b[0;34m\u001b[0m\u001b[0m\n\u001b[0m\u001b[1;32m     31\u001b[0m     \u001b[0mplt\u001b[0m\u001b[0;34m.\u001b[0m\u001b[0mtitle\u001b[0m\u001b[0;34m(\u001b[0m\u001b[0;34m'Feature importances for Random Forest Model    \\nBreast Cancer (Diagnostic)'\u001b[0m\u001b[0;34m)\u001b[0m\u001b[0;34m\u001b[0m\u001b[0;34m\u001b[0m\u001b[0m\n\u001b[1;32m     32\u001b[0m     plt.barh(index,\n",
            "\u001b[0;31mAttributeError\u001b[0m: 'AxesSubplot' object has no attribute 'set_axis_bgcolor'"
          ]
        },
        {
          "output_type": "display_data",
          "data": {
            "image/png": "[encoded data removed]",
            "text/plain": [
              "<Figure size 720x720 with 1 Axes>"
            ]
          },
          "metadata": {
            "tags": []
          }
        }
      ]
    },
    {
      "cell_type": "code",
      "metadata": {
        "id": "IX4ynLXbJQjs"
      },
      "source": [
        "def cross_val_metrics(fit, training_set, class_set, estimator, print_results = True):\n",
        "    \"\"\"\n",
        "    Purpose\n",
        "    ----------\n",
        "    Function helps automate cross validation processes while including \n",
        "    option to print metrics or store in variable\n",
        "\n",
        "    Parameters\n",
        "    ----------\n",
        "    fit: Fitted model \n",
        "    training_set:  Data_frame containing 80% of original dataframe\n",
        "    class_set:     data_frame containing the respective target vaues \n",
        "                      for the training_set\n",
        "    print_results: Boolean, if true prints the metrics, else saves metrics as \n",
        "                      variables\n",
        "\n",
        "    Returns\n",
        "    ----------\n",
        "    scores.mean(): Float representing cross validation score\n",
        "    scores.std() / 2: Float representing the standard error (derived\n",
        "                from cross validation score's standard deviation)\n",
        "    \"\"\"\n",
        "    my_estimators = {\n",
        "    'rf': 'estimators_',\n",
        "    'nn': 'out_activation_',\n",
        "    'knn': '_fit_method'\n",
        "    }\n",
        "    try:\n",
        "        # Captures whether first parameter is a model\n",
        "        if not hasattr(fit, 'fit'):\n",
        "            return print(\"'{0}' is not an instantiated model from scikit-learn\".format(fit)) \n",
        "\n",
        "        # Captures whether the model has been trained\n",
        "        if not vars(fit)[my_estimators[estimator]]:\n",
        "            return print(\"Model does not appear to be trained.\")\n",
        "\n",
        "    except KeyError as e:\n",
        "        print(\"'{0}' does not correspond with the appropriate key inside the estimators dictionary. \\\n",
        "\\nPlease refer to function to check `my_estimators` dictionary.\".format(estimator))\n",
        "        raise\n",
        "\n",
        "    n = KFold(n_splits=10)\n",
        "    scores = cross_val_score(fit, \n",
        "                         training_set, \n",
        "                         class_set, \n",
        "                         cv = n)\n",
        "    if print_results:\n",
        "        for i in range(0, len(scores)):\n",
        "            print(\"Cross validation run {0}: {1: 0.3f}\".format(i, scores[i]))\n",
        "        print(\"Accuracy: {0: 0.3f} (+/- {1: 0.3f})\"\\\n",
        "              .format(scores.mean(), scores.std() / 2))\n",
        "    else:\n",
        "        return scores.mean(), scores.std() / 2"
      ],
      "execution_count": null,
      "outputs": []
    },
    {
      "cell_type": "code",
      "metadata": {
        "colab": {
          "base_uri": "https://localhost:8080/",
          "height": 231
        },
        "id": "p-rqVUFiJa5d",
        "outputId": "fd82208f-a25a-4fc0-ebfc-261a0d60d3cc"
      },
      "source": [
        "cross_val_metrics(fit_rf, \n",
        "                  training_set, \n",
        "                  class_set, \n",
        "                  'rf',\n",
        "                  print_results = True)"
      ],
      "execution_count": 65,
      "outputs": [
        {
          "output_type": "error",
          "ename": "NameError",
          "evalue": "ignored",
          "traceback": [
            "\u001b[0;31m---------------------------------------------------------------------------\u001b[0m",
            "\u001b[0;31mNameError\u001b[0m                                 Traceback (most recent call last)",
            "\u001b[0;32m<ipython-input-65-24a5bc4ad20b>\u001b[0m in \u001b[0;36m<module>\u001b[0;34m()\u001b[0m\n\u001b[0;32m----> 1\u001b[0;31m cross_val_metrics(fit_rf, \n\u001b[0m\u001b[1;32m      2\u001b[0m                   \u001b[0mtraining_set\u001b[0m\u001b[0;34m,\u001b[0m\u001b[0;34m\u001b[0m\u001b[0;34m\u001b[0m\u001b[0m\n\u001b[1;32m      3\u001b[0m                   \u001b[0mclass_set\u001b[0m\u001b[0;34m,\u001b[0m\u001b[0;34m\u001b[0m\u001b[0;34m\u001b[0m\u001b[0m\n\u001b[1;32m      4\u001b[0m                   \u001b[0;34m'rf'\u001b[0m\u001b[0;34m,\u001b[0m\u001b[0;34m\u001b[0m\u001b[0;34m\u001b[0m\u001b[0m\n\u001b[1;32m      5\u001b[0m                   print_results = True)\n",
            "\u001b[0;31mNameError\u001b[0m: name 'cross_val_metrics' is not defined"
          ]
        }
      ]
    },
    {
      "cell_type": "code",
      "metadata": {
        "id": "wlGTCEmRJe3-"
      },
      "source": [
        "predictions_rf = fit_rf.predict(test_set)"
      ],
      "execution_count": 66,
      "outputs": []
    },
    {
      "cell_type": "code",
      "metadata": {
        "id": "_RgxsQNeJiaT"
      },
      "source": [
        "def create_conf_mat(test_class_set, predictions):\n",
        "    \"\"\"Function returns confusion matrix comparing two arrays\"\"\"\n",
        "    if (len(test_class_set.shape) != len(predictions.shape) == 1):\n",
        "        return print('Arrays entered are not 1-D.\\nPlease enter the correctly sized sets.')\n",
        "    elif (test_class_set.shape != predictions.shape):\n",
        "        return print('Number of values inside the Arrays are not equal to each other.\\nPlease make sure the array has the same number of instances.')\n",
        "    else:\n",
        "        # Set Metrics\n",
        "        test_crosstb_comp = pd.crosstab(index = test_class_set,\n",
        "                                        columns = predictions)\n",
        "        # Changed for Future deprecation of as_matrix\n",
        "        test_crosstb = test_crosstb_comp.values\n",
        "        return test_crosstb"
      ],
      "execution_count": 67,
      "outputs": []
    },
    {
      "cell_type": "code",
      "metadata": {
        "colab": {
          "base_uri": "https://localhost:8080/",
          "height": 299
        },
        "id": "VDwtBaMtJmN9",
        "outputId": "1f5fec0e-4c65-412c-fd53-cca9a550daff"
      },
      "source": [
        "conf_mat = create_conf_mat(test_class_set, predictions_rf)\n",
        "sns.heatmap(conf_mat, annot=True, fmt='d', cbar=False)\n",
        "plt.xlabel('Predicted Values')\n",
        "plt.ylabel('Actual Values')\n",
        "plt.title('Actual vs. Predicted Confusion Matrix')\n",
        "plt.show()"
      ],
      "execution_count": 68,
      "outputs": [
        {
          "output_type": "display_data",
          "data": {
            "image/png": "[encoded data removed]",
            "text/plain": [
              "<Figure size 432x288 with 1 Axes>"
            ]
          },
          "metadata": {
            "tags": []
          }
        }
      ]
    },
    {
      "cell_type": "code",
      "metadata": {
        "colab": {
          "base_uri": "https://localhost:8080/"
        },
        "id": "ujT0xTSXJpnd",
        "outputId": "ef1e8d2e-2ac2-4744-d67a-5e026de2af95"
      },
      "source": [
        "accuracy_rf = fit_rf.score(test_set, test_class_set)\n",
        "\n",
        "print(\"Here is our mean accuracy on the test set:\\n {0:.3f}\"\\\n",
        "      .format(accuracy_rf))"
      ],
      "execution_count": 69,
      "outputs": [
        {
          "output_type": "stream",
          "text": [
            "Here is our mean accuracy on the test set:\n",
            " 0.965\n"
          ],
          "name": "stdout"
        }
      ]
    },
    {
      "cell_type": "code",
      "metadata": {
        "colab": {
          "base_uri": "https://localhost:8080/"
        },
        "id": "y68WWJjUJtJu",
        "outputId": "8d50f8fa-b33a-4622-9682-bf98984e21e3"
      },
      "source": [
        "# Here we calculate the test error rate!\n",
        "test_error_rate_rf = 1 - accuracy_rf\n",
        "print(\"The test error rate for our model is:\\n {0: .4f}\"\\\n",
        "      .format(test_error_rate_rf))"
      ],
      "execution_count": 70,
      "outputs": [
        {
          "output_type": "stream",
          "text": [
            "The test error rate for our model is:\n",
            "  0.0351\n"
          ],
          "name": "stdout"
        }
      ]
    },
    {
      "cell_type": "code",
      "metadata": {
        "id": "6e3NEbbBJxKu"
      },
      "source": [
        "# We grab the second array from the output which corresponds to\n",
        "# to the predicted probabilites of positive classes \n",
        "# Ordered wrt fit.classes_ in our case [0, 1] where 1 is our positive class\n",
        "predictions_prob = fit_rf.predict_proba(test_set)[:, 1]\n",
        "\n",
        "fpr2, tpr2, _ = roc_curve(test_class_set,\n",
        "                          predictions_prob,\n",
        "                          pos_label = 1)"
      ],
      "execution_count": 72,
      "outputs": []
    },
    {
      "cell_type": "code",
      "metadata": {
        "id": "OjLNpKd-J1x-"
      },
      "source": [
        "auc_rf = auc(fpr2, tpr2)\n"
      ],
      "execution_count": 73,
      "outputs": []
    },
    {
      "cell_type": "code",
      "metadata": {
        "id": "sJWghd9jJ5Be"
      },
      "source": [
        "def plot_roc_curve(fpr, tpr, auc, estimator, xlim=None, ylim=None):\n",
        "    \"\"\"\n",
        "    Purpose\n",
        "    ----------\n",
        "    Function creates ROC Curve for respective model given selected parameters.\n",
        "    Optional x and y limits to zoom into graph\n",
        "\n",
        "    Parameters\n",
        "    ----------\n",
        "    * fpr: Array returned from sklearn.metrics.roc_curve for increasing\n",
        "            false positive rates\n",
        "    * tpr: Array returned from sklearn.metrics.roc_curve for increasing\n",
        "            true positive rates\n",
        "    * auc: Float returned from sklearn.metrics.auc (Area under Curve)\n",
        "    * estimator: String represenation of appropriate model, can only contain the\n",
        "    following: ['knn', 'rf', 'nn']\n",
        "    * xlim: Set upper and lower x-limits\n",
        "    * ylim: Set upper and lower y-limits\n",
        "    \"\"\"\n",
        "    my_estimators = {'knn': ['Kth Nearest Neighbor', 'deeppink'],\n",
        "              'rf': ['Random Forest', 'red'],\n",
        "              'nn': ['Neural Network', 'purple']}\n",
        "\n",
        "    try:\n",
        "        plot_title = my_estimators[estimator][0]\n",
        "        color_value = my_estimators[estimator][1]\n",
        "    except KeyError as e:\n",
        "        print(\"'{0}' does not correspond with the appropriate key inside the estimators dictionary. \\\n",
        "\\nPlease refer to function to check `my_estimators` dictionary.\".format(estimator))\n",
        "        raise\n",
        "\n",
        "    fig, ax = plt.subplots(figsize=(10, 10))\n",
        "    ax.set_facecolor('#fafafa')\n",
        "\n",
        "    plt.plot(fpr, tpr,\n",
        "             color=color_value,\n",
        "             linewidth=1)\n",
        "    plt.title('ROC Curve For {0} (AUC = {1: 0.3f})'\\\n",
        "              .format(plot_title, auc))\n",
        "\n",
        "    plt.plot([0, 1], [0, 1], 'k--', lw=2) # Add Diagonal line\n",
        "    plt.plot([0, 0], [1, 0], 'k--', lw=2, color = 'black')\n",
        "    plt.plot([1, 0], [1, 1], 'k--', lw=2, color = 'black')\n",
        "    if xlim is not None:\n",
        "        plt.xlim(*xlim)\n",
        "    if ylim is not None:\n",
        "        plt.ylim(*ylim)\n",
        "    plt.xlabel('False Positive Rate')\n",
        "    plt.ylabel('True Positive Rate')\n",
        "    plt.show()\n",
        "    plt.close()"
      ],
      "execution_count": null,
      "outputs": []
    },
    {
      "cell_type": "code",
      "metadata": {
        "colab": {
          "base_uri": "https://localhost:8080/",
          "height": 197
        },
        "id": "KdP8a1_GKBNs",
        "outputId": "aade3659-6149-4920-aed9-daae5a2e2b10"
      },
      "source": [
        "plot_roc_curve(fpr2, tpr2, auc_rf, 'rf',\n",
        "               xlim=(-0.01, 1.05), \n",
        "               ylim=(0.001, 1.05))"
      ],
      "execution_count": 74,
      "outputs": [
        {
          "output_type": "error",
          "ename": "NameError",
          "evalue": "ignored",
          "traceback": [
            "\u001b[0;31m---------------------------------------------------------------------------\u001b[0m",
            "\u001b[0;31mNameError\u001b[0m                                 Traceback (most recent call last)",
            "\u001b[0;32m<ipython-input-74-89377e72bd91>\u001b[0m in \u001b[0;36m<module>\u001b[0;34m()\u001b[0m\n\u001b[0;32m----> 1\u001b[0;31m plot_roc_curve(fpr2, tpr2, auc_rf, 'rf',\n\u001b[0m\u001b[1;32m      2\u001b[0m                \u001b[0mxlim\u001b[0m\u001b[0;34m=\u001b[0m\u001b[0;34m(\u001b[0m\u001b[0;34m-\u001b[0m\u001b[0;36m0.01\u001b[0m\u001b[0;34m,\u001b[0m \u001b[0;36m1.05\u001b[0m\u001b[0;34m)\u001b[0m\u001b[0;34m,\u001b[0m\u001b[0;34m\u001b[0m\u001b[0;34m\u001b[0m\u001b[0m\n\u001b[1;32m      3\u001b[0m                ylim=(0.001, 1.05))\n",
            "\u001b[0;31mNameError\u001b[0m: name 'plot_roc_curve' is not defined"
          ]
        }
      ]
    },
    {
      "cell_type": "code",
      "metadata": {
        "colab": {
          "base_uri": "https://localhost:8080/",
          "height": 197
        },
        "id": "e5xLu0KrKGE2",
        "outputId": "7dc8cc67-aa30-4e3f-ab39-5ee2b82714dc"
      },
      "source": [
        "plot_roc_curve(fpr2, tpr2, auc_rf, 'rf', \n",
        "               xlim=(-0.01, 0.2), \n",
        "               ylim=(0.85, 1.01))"
      ],
      "execution_count": 75,
      "outputs": [
        {
          "output_type": "error",
          "ename": "NameError",
          "evalue": "ignored",
          "traceback": [
            "\u001b[0;31m---------------------------------------------------------------------------\u001b[0m",
            "\u001b[0;31mNameError\u001b[0m                                 Traceback (most recent call last)",
            "\u001b[0;32m<ipython-input-75-4c2dc1273009>\u001b[0m in \u001b[0;36m<module>\u001b[0;34m()\u001b[0m\n\u001b[0;32m----> 1\u001b[0;31m plot_roc_curve(fpr2, tpr2, auc_rf, 'rf', \n\u001b[0m\u001b[1;32m      2\u001b[0m                \u001b[0mxlim\u001b[0m\u001b[0;34m=\u001b[0m\u001b[0;34m(\u001b[0m\u001b[0;34m-\u001b[0m\u001b[0;36m0.01\u001b[0m\u001b[0;34m,\u001b[0m \u001b[0;36m0.2\u001b[0m\u001b[0;34m)\u001b[0m\u001b[0;34m,\u001b[0m\u001b[0;34m\u001b[0m\u001b[0;34m\u001b[0m\u001b[0m\n\u001b[1;32m      3\u001b[0m                ylim=(0.85, 1.01))\n",
            "\u001b[0;31mNameError\u001b[0m: name 'plot_roc_curve' is not defined"
          ]
        }
      ]
    },
    {
      "cell_type": "code",
      "metadata": {
        "id": "yVtXymHEKNMF"
      },
      "source": [
        "def print_class_report(predictions, alg_name):\n",
        "    \"\"\"\n",
        "    Purpose\n",
        "    ----------\n",
        "    Function helps automate the report generated by the\n",
        "    sklearn package. Useful for multiple model comparison\n",
        "\n",
        "    Parameters:\n",
        "    ----------\n",
        "    predictions: The predictions made by the algorithm used\n",
        "    alg_name: String containing the name of the algorithm used\n",
        "    \n",
        "    Returns:\n",
        "    ----------\n",
        "    Returns classification report generated from sklearn. \n",
        "    \"\"\"\n",
        "    print('Classification Report for {0}:'.format(alg_name))\n",
        "    print(classification_report(predictions, \n",
        "            test_class_set, \n",
        "            target_names = dx))"
      ],
      "execution_count": 76,
      "outputs": []
    },
    {
      "cell_type": "code",
      "metadata": {
        "colab": {
          "base_uri": "https://localhost:8080/"
        },
        "id": "SdbO_JCKKTMn",
        "outputId": "9c7bf9d1-a432-4da0-e990-6836b60158a1"
      },
      "source": [
        "class_report = print_class_report(predictions_rf, 'Random Forest')"
      ],
      "execution_count": 77,
      "outputs": [
        {
          "output_type": "stream",
          "text": [
            "Classification Report for Random Forest:\n",
            "              precision    recall  f1-score   support\n",
            "\n",
            "      Benign       0.99      0.96      0.97        73\n",
            "   Malignant       0.93      0.98      0.95        41\n",
            "\n",
            "    accuracy                           0.96       114\n",
            "   macro avg       0.96      0.97      0.96       114\n",
            "weighted avg       0.97      0.96      0.97       114\n",
            "\n"
          ],
          "name": "stdout"
        }
      ]
    },
    {
      "cell_type": "code",
      "metadata": {
        "id": "rBrjKtuFKW69"
      },
      "source": [
        ""
      ],
      "execution_count": null,
      "outputs": []
    }
  ]
}