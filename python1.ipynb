{
  "nbformat": 4,
  "nbformat_minor": 0,
  "metadata": {
    "colab": {
      "name": "python1.ipynb",
      "provenance": [],
      "collapsed_sections": [],
      "authorship_tag": "ABX9TyOIovlrhp+IRp+Pst5uB+IG",
      "include_colab_link": true
    },
    "kernelspec": {
      "name": "python3",
      "display_name": "Python 3"
    }
  },
  "cells": [
    {
      "cell_type": "markdown",
      "metadata": {
        "id": "view-in-github",
        "colab_type": "text"
      },
      "source": [
        "<a href=\"https://colab.research.google.com/github/SampathPiriya/Personal-Files/blob/master/python1.ipynb\" target=\"_parent\"><img src=\"https://colab.research.google.com/assets/colab-badge.svg\" alt=\"Open In Colab\"/></a>"
      ]
    },
    {
      "cell_type": "code",
      "metadata": {
        "id": "Z9yXtu89qDEP"
      },
      "source": [
        "Write a function that inputs a number and prints the multiplication table of that number"
      ],
      "execution_count": null,
      "outputs": []
    },
    {
      "cell_type": "markdown",
      "metadata": {
        "id": "jQra_zcHqR-X"
      },
      "source": [
        ""
      ]
    },
    {
      "cell_type": "code",
      "metadata": {
        "colab": {
          "base_uri": "https://localhost:8080/"
        },
        "id": "-N1n-epjqQvJ",
        "outputId": "9829be8d-0b22-4550-d73d-e2ec668a5cbb"
      },
      "source": [
        "import math\n",
        "k = int(input())\n",
        "for i in range (1,11) :\n",
        " print(i*k)"
      ],
      "execution_count": null,
      "outputs": [
        {
          "output_type": "stream",
          "text": [
            "9\n",
            "9\n",
            "18\n",
            "27\n",
            "36\n",
            "45\n",
            "54\n",
            "63\n",
            "72\n",
            "81\n",
            "90\n"
          ],
          "name": "stdout"
        }
      ]
    },
    {
      "cell_type": "code",
      "metadata": {
        "id": "XUd3dV9Ip2Zz"
      },
      "source": [
        "Write a program to print twin primes less than 1000. If two consecutive odd numbers are\n",
        "both prime then they are known as twin primes"
      ],
      "execution_count": null,
      "outputs": []
    },
    {
      "cell_type": "code",
      "metadata": {
        "colab": {
          "base_uri": "https://localhost:8080/",
          "height": 0
        },
        "id": "3m0w5plEqT8u",
        "outputId": "5b3df9b4-96d7-47a9-b302-736d5ef4411d"
      },
      "source": [
        "def prime(n):\n",
        "    for k in range(2,n):\n",
        "        if(n%k == 0):\n",
        "                 return False\n",
        "    return True\n",
        "            \n",
        "\n",
        "for i in range(1,1000):\n",
        "    j=i+2\n",
        "    if(prime(i) and prime(j)):\n",
        "        print(i)\n",
        "        print(j)\n",
        "        print()\n",
        "\n"
      ],
      "execution_count": 27,
      "outputs": [
        {
          "output_type": "stream",
          "text": [
            "1\n",
            "3\n",
            "\n",
            "3\n",
            "5\n",
            "\n",
            "5\n",
            "7\n",
            "\n",
            "11\n",
            "13\n",
            "\n",
            "17\n",
            "19\n",
            "\n",
            "29\n",
            "31\n",
            "\n",
            "41\n",
            "43\n",
            "\n",
            "59\n",
            "61\n",
            "\n",
            "71\n",
            "73\n",
            "\n",
            "101\n",
            "103\n",
            "\n",
            "107\n",
            "109\n",
            "\n",
            "137\n",
            "139\n",
            "\n",
            "149\n",
            "151\n",
            "\n",
            "179\n",
            "181\n",
            "\n",
            "191\n",
            "193\n",
            "\n",
            "197\n",
            "199\n",
            "\n",
            "227\n",
            "229\n",
            "\n",
            "239\n",
            "241\n",
            "\n",
            "269\n",
            "271\n",
            "\n",
            "281\n",
            "283\n",
            "\n",
            "311\n",
            "313\n",
            "\n",
            "347\n",
            "349\n",
            "\n",
            "419\n",
            "421\n",
            "\n",
            "431\n",
            "433\n",
            "\n",
            "461\n",
            "463\n",
            "\n",
            "521\n",
            "523\n",
            "\n",
            "569\n",
            "571\n",
            "\n",
            "599\n",
            "601\n",
            "\n",
            "617\n",
            "619\n",
            "\n",
            "641\n",
            "643\n",
            "\n",
            "659\n",
            "661\n",
            "\n",
            "809\n",
            "811\n",
            "\n",
            "821\n",
            "823\n",
            "\n",
            "827\n",
            "829\n",
            "\n",
            "857\n",
            "859\n",
            "\n",
            "881\n",
            "883\n",
            "\n"
          ],
          "name": "stdout"
        }
      ]
    },
    {
      "cell_type": "code",
      "metadata": {
        "id": "81igHsGYWZgp"
      },
      "source": [
        "Write a program to find out the prime factors of a number. Example: prime factors of 56 -\n",
        "2, 2, 2, 7"
      ],
      "execution_count": null,
      "outputs": []
    },
    {
      "cell_type": "code",
      "metadata": {
        "colab": {
          "base_uri": "https://localhost:8080/"
        },
        "id": "-C_lmUHKWeTW",
        "outputId": "8be00628-ee1b-4fa3-fa56-351d7d572945"
      },
      "source": [
        "def prime(n):\n",
        "    for i in range(2,n):\n",
        "        if(n%i==0):\n",
        "           return False\n",
        "    return True\n",
        "n = int(input())\n",
        "for i in range(2,n):\n",
        "    if(n%i==0):\n",
        "       if(prime(i) == True):\n",
        "        print(i)\n",
        "      \n"
      ],
      "execution_count": null,
      "outputs": [
        {
          "output_type": "stream",
          "text": [
            "63\n",
            "3\n",
            "7\n"
          ],
          "name": "stdout"
        }
      ]
    },
    {
      "cell_type": "code",
      "metadata": {
        "id": "A51nd1LRYmf0"
      },
      "source": [
        "Write a program to implement these formulae of permutations and combinations.\n",
        "Number of permutations of n objects taken r at a time: p(n, r) = n! / (n-r)!. Number of\n",
        "combinations of n objects taken r at a time is: c(n, r) = n! / (r!*(n-r)!) = p(n,r) / r!"
      ],
      "execution_count": null,
      "outputs": []
    },
    {
      "cell_type": "code",
      "metadata": {
        "colab": {
          "base_uri": "https://localhost:8080/"
        },
        "id": "76JCnXzlYza0",
        "outputId": "a3b69321-0615-480c-b3f6-ad59da46685f"
      },
      "source": [
        "def fact(n):\n",
        "    m=n\n",
        "    for i in range(1,n):\n",
        "       m=m*n\n",
        "    return m\n",
        "\n",
        "n= int(input())\n",
        "r=int(input())\n",
        "z=n-r\n",
        "\n",
        "x=fact(n)/fact(z)\n",
        "print(x)\n",
        "y=fact(r)*fact(z)\n",
        "c=fact(n)/y\n",
        "print(c)"
      ],
      "execution_count": null,
      "outputs": [
        {
          "output_type": "stream",
          "text": [
            "5\n",
            "3\n",
            "781.25\n",
            "28.935185185185187\n"
          ],
          "name": "stdout"
        }
      ]
    },
    {
      "cell_type": "code",
      "metadata": {
        "id": "RMLwKL_Mqm2w"
      },
      "source": [
        "Write a function that converts a decimal number to binary number"
      ],
      "execution_count": null,
      "outputs": []
    },
    {
      "cell_type": "code",
      "metadata": {
        "id": "sW6bQhl-vMGI",
        "colab": {
          "base_uri": "https://localhost:8080/"
        },
        "outputId": "0231c9f2-0372-4793-c91d-1aad831baa71"
      },
      "source": [
        "n = int(input())\n",
        "while(n>1):\n",
        "  m = int(n%2)\n",
        "  n=n/2\n",
        "  print(m)\n",
        "  \n",
        "    "
      ],
      "execution_count": null,
      "outputs": [
        {
          "output_type": "stream",
          "text": [
            "98\n",
            "0\n",
            "1\n",
            "0\n",
            "0\n",
            "0\n",
            "1\n",
            "1\n"
          ],
          "name": "stdout"
        }
      ]
    },
    {
      "cell_type": "code",
      "metadata": {
        "id": "G2JtdgXDvjpm"
      },
      "source": [
        ". Write a function cubesum() that accepts an integer and returns the sum of the cubes of\n",
        "individual digits of that number. Use this function to make functions PrintArmstrong() and\n",
        "isArmstrong() to print Armstrong numbers and to find whether is an Armstrong number."
      ],
      "execution_count": null,
      "outputs": []
    },
    {
      "cell_type": "code",
      "metadata": {
        "colab": {
          "base_uri": "https://localhost:8080/"
        },
        "id": "omzMjdxpw9tL",
        "outputId": "c23b755c-9854-4276-9313-62721b1224a2"
      },
      "source": [
        "\n",
        "n=int(input())\n",
        "\n",
        "def sum(n):\n",
        "     s = 0\n",
        "     while(n != 0):\n",
        "           m=int(n%10)\n",
        "           n=int(n/10)\n",
        "           c=m*m*m\n",
        "           s=c+s\n",
        "           print(s)\n",
        "\n",
        "if(n == sum(n)):\n",
        "   print(\"n is %d is Armstrong\"%n)\n",
        "\n",
        "\n"
      ],
      "execution_count": null,
      "outputs": [
        {
          "output_type": "stream",
          "text": [
            "153\n",
            "27\n",
            "152\n",
            "153\n"
          ],
          "name": "stdout"
        }
      ]
    },
    {
      "cell_type": "code",
      "metadata": {
        "id": "PJnOWMPG-feO"
      },
      "source": [
        ""
      ],
      "execution_count": null,
      "outputs": []
    },
    {
      "cell_type": "code",
      "metadata": {
        "id": "qRTYLOhvnz2u"
      },
      "source": [
        "Write a function prodDigits() that inputs a number and returns the product of digits of that\n",
        "number."
      ],
      "execution_count": null,
      "outputs": []
    },
    {
      "cell_type": "code",
      "metadata": {
        "colab": {
          "base_uri": "https://localhost:8080/"
        },
        "id": "27QRGh4E80uz",
        "outputId": "31c5204a-731d-4049-93c3-634c4bc7a332"
      },
      "source": [
        "n=int(input())\n",
        "s = 1\n",
        "while(n != 0):\n",
        "      m=int(n%10)\n",
        "      n=int(n/10)\n",
        "      s=m*s\n",
        "      print(s)"
      ],
      "execution_count": null,
      "outputs": [
        {
          "output_type": "stream",
          "text": [
            "852\n",
            "2\n",
            "10\n",
            "80\n"
          ],
          "name": "stdout"
        }
      ]
    },
    {
      "cell_type": "code",
      "metadata": {
        "id": "06BZJ9vF-hcX"
      },
      "source": [
        "If all digits of a number n are multiplied by each other repeating with the product, the one\n",
        "digit number obtained at last is called the multiplicative digital root of n. The number of\n",
        "times digits need to be multiplied to reach one digit is called the multiplicative\n",
        "persistance of n.\n",
        "Example: 86 -> 48 -> 32 -> 6 (MDR 6, MPersistence 3)\n",
        " 341 -> 12->2 (MDR 2, MPersistence 2)\n",
        "Using the function prodDigits() of previous exercise write functions MDR() and\n",
        "MPersistence() that input a number and return its multiplicative digital root and\n",
        "multiplicative persistence respectively"
      ],
      "execution_count": null,
      "outputs": []
    },
    {
      "cell_type": "code",
      "metadata": {
        "colab": {
          "base_uri": "https://localhost:8080/"
        },
        "id": "I35sqKCD-pTm",
        "outputId": "ce1d7eea-bd6e-4789-ebd2-442d500e8d0d"
      },
      "source": [
        "n=int(input())\n",
        "s = 1\n",
        "while(s<10):\n",
        "      while(n != 0):\n",
        "            m=int(n%10)\n",
        "            n=int(n/10)\n",
        "            s=m*s\n",
        "            print(s)"
      ],
      "execution_count": null,
      "outputs": [
        {
          "output_type": "stream",
          "text": [
            "856\n",
            "6\n",
            "30\n",
            "240\n"
          ],
          "name": "stdout"
        }
      ]
    },
    {
      "cell_type": "code",
      "metadata": {
        "id": "H8KRaeYBYDs6"
      },
      "source": [
        "9. Write a function sumPdivisors() that finds the sum of proper divisors of a number. Proper\n",
        "divisors of a number are those numbers by which the number is divisible, except the\n",
        "number itself. For example proper divisors of 36 are 1, 2, 3, 4, 6, 9, 18"
      ],
      "execution_count": null,
      "outputs": []
    },
    {
      "cell_type": "code",
      "metadata": {
        "colab": {
          "base_uri": "https://localhost:8080/"
        },
        "id": "jeQYRwGqYFl6",
        "outputId": "39db38db-6022-4a47-be3e-c205e770138e"
      },
      "source": [
        "n = int(input())\n",
        "for i in range(1,n):\n",
        "    if(n%i==0):\n",
        "        print(i)\n",
        "      "
      ],
      "execution_count": null,
      "outputs": [
        {
          "output_type": "stream",
          "text": [
            "36\n",
            "1\n",
            "2\n",
            "3\n",
            "4\n",
            "6\n",
            "9\n",
            "12\n",
            "18\n"
          ],
          "name": "stdout"
        }
      ]
    },
    {
      "cell_type": "code",
      "metadata": {
        "id": "owi2Nl-IZNgZ"
      },
      "source": [
        "A number is called perfect if the sum of proper divisors of that number is equal to the\n",
        "number. For example 28 is perfect number, since 1+2+4+7+14=28. Write a program to\n",
        "print all the perfect numbers in a given range"
      ],
      "execution_count": null,
      "outputs": []
    },
    {
      "cell_type": "code",
      "metadata": {
        "colab": {
          "base_uri": "https://localhost:8080/"
        },
        "id": "MRfsBLp-ZQKh",
        "outputId": "34b5217b-0b25-4aaf-ab5a-efb255966fac"
      },
      "source": [
        "s=0\n",
        "n = int(input())\n",
        "for i in range(1,n):\n",
        "    if(n%i==0):\n",
        "        s=s+i\n",
        "if(s==n):\n",
        "  print(\"given number is %d perfect number\" %n)\n",
        "else:\n",
        "  print(\"%d not a perfect number\" %n)"
      ],
      "execution_count": null,
      "outputs": [
        {
          "output_type": "stream",
          "text": [
            "28\n",
            "given number is 28 perfect number\n"
          ],
          "name": "stdout"
        }
      ]
    },
    {
      "cell_type": "code",
      "metadata": {
        "id": "iPcZ4FKjaYpX"
      },
      "source": [
        "Two different numbers are called amicable numbers if the sum of the proper divisors of\n",
        "each is equal to the other number. For example 220 and 284 are amicable numbers."
      ],
      "execution_count": null,
      "outputs": []
    },
    {
      "cell_type": "code",
      "metadata": {
        "id": "u-N3bLN8ae7O",
        "colab": {
          "base_uri": "https://localhost:8080/"
        },
        "outputId": "7008a776-9c0a-48c9-a289-9f42fc1d27df"
      },
      "source": [
        "n = int(input())\n",
        "m = int(input())\n",
        "def perfect(k):\n",
        "         s=0\n",
        "         for i in range(1,n):\n",
        "             if(n%i==0):\n",
        "                s=s+i\n",
        "\n",
        "if(perfect(n)==m and perfect(m)==n ):\n",
        "  print(\"given number is %d perfect number\" %n)\n",
        "\n"
      ],
      "execution_count": null,
      "outputs": [
        {
          "output_type": "stream",
          "text": [
            "220\n",
            "284\n"
          ],
          "name": "stdout"
        }
      ]
    },
    {
      "cell_type": "code",
      "metadata": {
        "id": "H3MLl559cH-_"
      },
      "source": [
        "\n",
        "Write a program which can filter odd numbers in a list by using filter function"
      ],
      "execution_count": null,
      "outputs": []
    },
    {
      "cell_type": "code",
      "metadata": {
        "colab": {
          "base_uri": "https://localhost:8080/"
        },
        "id": "695REjxWchC5",
        "outputId": "be336880-b192-436b-aa17-a5812e7d2acc"
      },
      "source": [
        "lis=[1,2,3,4,5,6,7,8,9,67,88]\n",
        "def fun(k):\n",
        "    if(k%2 ==0):\n",
        "       return False\n",
        "    else:\n",
        "      return True\n",
        "       \n",
        "        \n",
        "          \n",
        "odd = filter(fun,lis)\n",
        "\n",
        "for k in odd:\n",
        "   print(k)"
      ],
      "execution_count": null,
      "outputs": [
        {
          "output_type": "stream",
          "text": [
            "1\n",
            "3\n",
            "5\n",
            "7\n",
            "9\n",
            "67\n"
          ],
          "name": "stdout"
        }
      ]
    },
    {
      "cell_type": "code",
      "metadata": {
        "id": "Rjp64SdNchsV"
      },
      "source": [
        "Write a program which can map() to make a list whose elements are cube of elements in\n",
        "a given list"
      ],
      "execution_count": null,
      "outputs": []
    },
    {
      "cell_type": "code",
      "metadata": {
        "id": "YrytEytPcm-e",
        "colab": {
          "base_uri": "https://localhost:8080/"
        },
        "outputId": "a9f43f9c-ecf6-4d09-c6c1-ca55f4fbdfc4"
      },
      "source": [
        "def cube(n):\n",
        "    return n*n*n\n",
        "\n",
        "\n",
        "lis = (1, 2, 3, 4, 9, 8 ,7, 0)\n",
        "r = map(cube, lis)\n",
        "print(r)\n",
        "\n",
        "# converting map object to set\n",
        "m = set(r)\n",
        "print(m)"
      ],
      "execution_count": null,
      "outputs": [
        {
          "output_type": "stream",
          "text": [
            "<map object at 0x7f03f406f9d0>\n",
            "{64, 1, 512, 0, 8, 343, 729, 27}\n"
          ],
          "name": "stdout"
        }
      ]
    },
    {
      "cell_type": "code",
      "metadata": {
        "id": "tg2MpVW5cnrG"
      },
      "source": [
        "Write a program which can map() and filter() to make a list whose elements are cube of\n",
        "even number in a given list"
      ],
      "execution_count": null,
      "outputs": []
    },
    {
      "cell_type": "code",
      "metadata": {
        "colab": {
          "base_uri": "https://localhost:8080/"
        },
        "id": "UNdb8EBwslCY",
        "outputId": "60756808-2c8c-469c-c60e-ffcac88c5128"
      },
      "source": [
        "lis=[1,2,3,4,5,6,7,8,9,67,88]\n",
        "def fun(k):\n",
        "    if(k%2 ==0):\n",
        "       return False\n",
        "    else:\n",
        "      return True         \n",
        "odd = filter(fun,lis)\n",
        "\n",
        "def cube(n):\n",
        "    return n*n*n\n",
        "\n",
        "r = map(cube, odd)\n",
        "m = set(r)\n",
        "print(m)\n",
        "\n"
      ],
      "execution_count": null,
      "outputs": [
        {
          "output_type": "stream",
          "text": [
            "{1, 343, 729, 27, 125, 300763}\n"
          ],
          "name": "stdout"
        }
      ]
    }
  ]
}